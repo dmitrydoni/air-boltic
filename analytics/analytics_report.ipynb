{
 "cells": [
  {
   "cell_type": "markdown",
   "id": "efabe9dd-c8dd-4351-9382-4bf86a777275",
   "metadata": {},
   "source": [
    "# Air Boltic Analytics\n",
    "***"
   ]
  },
  {
   "cell_type": "markdown",
   "id": "818186e0-d64b-4fc2-bc0c-39aad7f4eb98",
   "metadata": {},
   "source": [
    "## Scope\n",
    "- Business context\n",
    "- Exploratory data analysis\n",
    "- Data modeling\n",
    "    - Conceptual model\n",
    "    - Logical model\n",
    "- Analytics engineering\n",
    "    - Ingestion\n",
    "    - Transformation\n",
    "    - Serving (out of scope)\n",
    "    - DataOps\n",
    "        - CI/CD pipeline\n",
    "- Evolution\n",
    "***"
   ]
  },
  {
   "cell_type": "markdown",
   "id": "6468e9e0-9215-435b-ac13-92268f4f9514",
   "metadata": {},
   "source": [
    "## Business context\n",
    "> *Air Boltic is a marketplace for sharing aeroplane rides. On one side of the market there are\n",
    "aeroplane operators, ready to fly from anywhere to anywhere. On the other side of the\n",
    "market there are individuals and groups who need to get from A to B.*\n",
    "> \n",
    "> *After a few months of operating in Europe, we see that the service is doing great in some\n",
    "regions, while it hasn’t taken off in others areas. We want to replicate the success in all of\n",
    "our regions and expand outwards, envisioning to facilitate 20% of all aeroplane rides across\n",
    "the globe in 2030. To achieve the goal, we need to understand what are the drivers of\n",
    "growth: the kind of customers we serve well, the kind of use cases we cover (short or long,\n",
    "from where to where, low cost or premium, small or big planes etc). To make sure the\n",
    "business fits into our portfolio, we also monitor daily/weekly/monthly active users, revenue\n",
    "and other metrics that we can compare to our older business lines.*"
   ]
  },
  {
   "cell_type": "markdown",
   "id": "85809d76-b239-4264-9af2-4b5e8312c192",
   "metadata": {},
   "source": [
    "We have information about a hypothetic aeroplane ride sharing marketplace:\n",
    "- Customers\n",
    "- Customer groups\n",
    "- Aeroplanes\n",
    "- Trips\n",
    "- Orders\n",
    "- Aeroplane models\n",
    "\n",
    "The business stakeholders need:\n",
    " - **Data model** that enables monitoring and self-service analysis of the service\n",
    " - Design of **CI/CD process**"
   ]
  },
  {
   "cell_type": "markdown",
   "id": "646ec30b-4f57-4a45-870a-b346240ef6bd",
   "metadata": {},
   "source": [
    "Based on the description, the service operates using with following high-level entities:"
   ]
  },
  {
   "cell_type": "markdown",
   "id": "6a5598cd-1bab-4448-a226-ed388c557d52",
   "metadata": {},
   "source": [
    "```mermaid\n",
    "\n",
    "mindmap\n",
    "  root((Order))\n",
    "    Status\n",
    "    Trip\n",
    "        Aeroplane\n",
    "            Aeroplane model\n",
    "    Customer\n",
    "        Customer group\n",
    "```"
   ]
  },
  {
   "cell_type": "markdown",
   "id": "514629bf-5cc7-4e7f-93a2-d11af7ceee33",
   "metadata": {},
   "source": [
    "## Exploratory data analysis\n",
    "As the first step, let us perform quick exploratory data analysis (EDA) to get general understanding of the data available,\n",
    " its quality, and basic statistics."
   ]
  },
  {
   "cell_type": "markdown",
   "id": "91359d0f-7526-43ed-b8ff-a02a2f916b45",
   "metadata": {},
   "source": [
    "The sample data is provided as a collection of CSV and JSON files (already on the local filesystem). \n",
    "\n",
    "We are dealing with the following types of data:\n",
    "- Structured data\n",
    "- Semistructured data"
   ]
  },
  {
   "cell_type": "code",
   "execution_count": 1,
   "id": "4e420766-03bb-4899-874c-8821575207db",
   "metadata": {},
   "outputs": [],
   "source": [
    "import json\n",
    "import polars as pl\n",
    "import duckdb\n",
    "\n",
    "\n",
    "SAMPLES_DIR = '../samples'\n",
    "CSV_FILENAMES = ['customer', 'customer_group', 'aeroplane', 'order', 'trip']\n",
    "DEV_DB = 'dev.duckdb'"
   ]
  },
  {
   "cell_type": "markdown",
   "id": "19774d0a-fc51-4135-962f-106d136ac3ed",
   "metadata": {},
   "source": [
    "### EDA: Customer\n",
    "We can preview the dataset in the command line using [DuckDB](https://duckdb.org/):"
   ]
  },
  {
   "cell_type": "code",
   "execution_count": 2,
   "id": "f63c60ad-8a6c-432d-8679-4d222e696063",
   "metadata": {},
   "outputs": [
    {
     "name": "stdout",
     "output_type": "stream",
     "text": [
      "\u001b[90m┌\u001b[0m\u001b[90m─\u001b[0m\u001b[90m─\u001b[0m\u001b[90m─\u001b[0m\u001b[90m─\u001b[0m\u001b[90m─\u001b[0m\u001b[90m─\u001b[0m\u001b[90m─\u001b[0m\u001b[90m─\u001b[0m\u001b[90m─\u001b[0m\u001b[90m─\u001b[0m\u001b[90m─\u001b[0m\u001b[90m─\u001b[0m\u001b[90m─\u001b[0m\u001b[90m┬\u001b[0m\u001b[90m─\u001b[0m\u001b[90m─\u001b[0m\u001b[90m─\u001b[0m\u001b[90m─\u001b[0m\u001b[90m─\u001b[0m\u001b[90m─\u001b[0m\u001b[90m─\u001b[0m\u001b[90m─\u001b[0m\u001b[90m─\u001b[0m\u001b[90m─\u001b[0m\u001b[90m─\u001b[0m\u001b[90m─\u001b[0m\u001b[90m─\u001b[0m\u001b[90m─\u001b[0m\u001b[90m─\u001b[0m\u001b[90m┬\u001b[0m\u001b[90m─\u001b[0m\u001b[90m─\u001b[0m\u001b[90m─\u001b[0m\u001b[90m─\u001b[0m\u001b[90m─\u001b[0m\u001b[90m─\u001b[0m\u001b[90m─\u001b[0m\u001b[90m─\u001b[0m\u001b[90m─\u001b[0m\u001b[90m─\u001b[0m\u001b[90m─\u001b[0m\u001b[90m─\u001b[0m\u001b[90m─\u001b[0m\u001b[90m─\u001b[0m\u001b[90m─\u001b[0m\u001b[90m─\u001b[0m\u001b[90m─\u001b[0m\u001b[90m─\u001b[0m\u001b[90m─\u001b[0m\u001b[90m┬\u001b[0m\u001b[90m─\u001b[0m\u001b[90m─\u001b[0m\u001b[90m─\u001b[0m\u001b[90m─\u001b[0m\u001b[90m─\u001b[0m\u001b[90m─\u001b[0m\u001b[90m─\u001b[0m\u001b[90m─\u001b[0m\u001b[90m─\u001b[0m\u001b[90m─\u001b[0m\u001b[90m─\u001b[0m\u001b[90m─\u001b[0m\u001b[90m─\u001b[0m\u001b[90m─\u001b[0m\u001b[90m─\u001b[0m\u001b[90m─\u001b[0m\u001b[90m─\u001b[0m\u001b[90m─\u001b[0m\u001b[90m─\u001b[0m\u001b[90m─\u001b[0m\u001b[90m─\u001b[0m\u001b[90m─\u001b[0m\u001b[90m─\u001b[0m\u001b[90m─\u001b[0m\u001b[90m─\u001b[0m\u001b[90m─\u001b[0m\u001b[90m─\u001b[0m\u001b[90m─\u001b[0m\u001b[90m─\u001b[0m\u001b[90m─\u001b[0m\u001b[90m┬\u001b[0m\u001b[90m─\u001b[0m\u001b[90m─\u001b[0m\u001b[90m─\u001b[0m\u001b[90m─\u001b[0m\u001b[90m─\u001b[0m\u001b[90m─\u001b[0m\u001b[90m─\u001b[0m\u001b[90m─\u001b[0m\u001b[90m─\u001b[0m\u001b[90m─\u001b[0m\u001b[90m─\u001b[0m\u001b[90m─\u001b[0m\u001b[90m─\u001b[0m\u001b[90m─\u001b[0m\u001b[90m─\u001b[0m\u001b[90m─\u001b[0m\u001b[90m─\u001b[0m\u001b[90m─\u001b[0m\u001b[90m┐\u001b[0m\u001b[90m\n",
      "\u001b[0m\u001b[90m│\u001b[0m\u001b[90m \u001b[0mCustomer ID\u001b[90m \u001b[0m\u001b[90m│\u001b[0m\u001b[90m     \u001b[0mName\u001b[90m      \u001b[0m\u001b[90m│\u001b[0m\u001b[90m \u001b[0mCustomer Group ID\u001b[90m \u001b[0m\u001b[90m│\u001b[0m\u001b[90m            \u001b[0mEmail\u001b[90m             \u001b[0m\u001b[90m│\u001b[0m\u001b[90m   \u001b[0mPhone Number\u001b[90m   \u001b[0m\u001b[90m│\u001b[0m\u001b[90m\n",
      "\u001b[0m\u001b[90m│\u001b[0m\u001b[90m    \u001b[0mint64\u001b[90m    \u001b[0m\u001b[90m│\u001b[0m\u001b[90m    \u001b[0mvarchar\u001b[90m    \u001b[0m\u001b[90m│\u001b[0m\u001b[90m       \u001b[0mint64\u001b[90m       \u001b[0m\u001b[90m│\u001b[0m\u001b[90m           \u001b[0mvarchar\u001b[90m            \u001b[0m\u001b[90m│\u001b[0m\u001b[90m     \u001b[0mvarchar\u001b[90m      \u001b[0m\u001b[90m│\u001b[0m\u001b[90m\n",
      "\u001b[0m\u001b[90m├\u001b[0m\u001b[90m─\u001b[0m\u001b[90m─\u001b[0m\u001b[90m─\u001b[0m\u001b[90m─\u001b[0m\u001b[90m─\u001b[0m\u001b[90m─\u001b[0m\u001b[90m─\u001b[0m\u001b[90m─\u001b[0m\u001b[90m─\u001b[0m\u001b[90m─\u001b[0m\u001b[90m─\u001b[0m\u001b[90m─\u001b[0m\u001b[90m─\u001b[0m\u001b[90m┼\u001b[0m\u001b[90m─\u001b[0m\u001b[90m─\u001b[0m\u001b[90m─\u001b[0m\u001b[90m─\u001b[0m\u001b[90m─\u001b[0m\u001b[90m─\u001b[0m\u001b[90m─\u001b[0m\u001b[90m─\u001b[0m\u001b[90m─\u001b[0m\u001b[90m─\u001b[0m\u001b[90m─\u001b[0m\u001b[90m─\u001b[0m\u001b[90m─\u001b[0m\u001b[90m─\u001b[0m\u001b[90m─\u001b[0m\u001b[90m┼\u001b[0m\u001b[90m─\u001b[0m\u001b[90m─\u001b[0m\u001b[90m─\u001b[0m\u001b[90m─\u001b[0m\u001b[90m─\u001b[0m\u001b[90m─\u001b[0m\u001b[90m─\u001b[0m\u001b[90m─\u001b[0m\u001b[90m─\u001b[0m\u001b[90m─\u001b[0m\u001b[90m─\u001b[0m\u001b[90m─\u001b[0m\u001b[90m─\u001b[0m\u001b[90m─\u001b[0m\u001b[90m─\u001b[0m\u001b[90m─\u001b[0m\u001b[90m─\u001b[0m\u001b[90m─\u001b[0m\u001b[90m─\u001b[0m\u001b[90m┼\u001b[0m\u001b[90m─\u001b[0m\u001b[90m─\u001b[0m\u001b[90m─\u001b[0m\u001b[90m─\u001b[0m\u001b[90m─\u001b[0m\u001b[90m─\u001b[0m\u001b[90m─\u001b[0m\u001b[90m─\u001b[0m\u001b[90m─\u001b[0m\u001b[90m─\u001b[0m\u001b[90m─\u001b[0m\u001b[90m─\u001b[0m\u001b[90m─\u001b[0m\u001b[90m─\u001b[0m\u001b[90m─\u001b[0m\u001b[90m─\u001b[0m\u001b[90m─\u001b[0m\u001b[90m─\u001b[0m\u001b[90m─\u001b[0m\u001b[90m─\u001b[0m\u001b[90m─\u001b[0m\u001b[90m─\u001b[0m\u001b[90m─\u001b[0m\u001b[90m─\u001b[0m\u001b[90m─\u001b[0m\u001b[90m─\u001b[0m\u001b[90m─\u001b[0m\u001b[90m─\u001b[0m\u001b[90m─\u001b[0m\u001b[90m─\u001b[0m\u001b[90m┼\u001b[0m\u001b[90m─\u001b[0m\u001b[90m─\u001b[0m\u001b[90m─\u001b[0m\u001b[90m─\u001b[0m\u001b[90m─\u001b[0m\u001b[90m─\u001b[0m\u001b[90m─\u001b[0m\u001b[90m─\u001b[0m\u001b[90m─\u001b[0m\u001b[90m─\u001b[0m\u001b[90m─\u001b[0m\u001b[90m─\u001b[0m\u001b[90m─\u001b[0m\u001b[90m─\u001b[0m\u001b[90m─\u001b[0m\u001b[90m─\u001b[0m\u001b[90m─\u001b[0m\u001b[90m─\u001b[0m\u001b[90m┤\u001b[0m\u001b[90m\n",
      "\u001b[0m\u001b[90m│\u001b[0m\u001b[90m           \u001b[0m1\u001b[90m \u001b[0m\u001b[90m│\u001b[0m\u001b[90m \u001b[0mJohn Doe\u001b[90m      \u001b[0m\u001b[90m│\u001b[0m\u001b[90m                 \u001b[0m1\u001b[90m \u001b[0m\u001b[90m│\u001b[0m\u001b[90m \u001b[0mjohn.doe@gmail.com          \u001b[90m \u001b[0m\u001b[90m│\u001b[0m\u001b[90m \u001b[0m+1-555-123-4567\u001b[90m  \u001b[0m\u001b[90m│\u001b[0m\u001b[90m\n",
      "\u001b[0m\u001b[90m│\u001b[0m\u001b[90m           \u001b[0m2\u001b[90m \u001b[0m\u001b[90m│\u001b[0m\u001b[90m \u001b[0mJane Smith\u001b[90m    \u001b[0m\u001b[90m│\u001b[0m\u001b[90m              \u001b[0m\u001b[90mNULL\u001b[0m\u001b[90m \u001b[0m\u001b[90m│\u001b[0m\u001b[90m \u001b[0mjane.smith@yahoo.com        \u001b[90m \u001b[0m\u001b[90m│\u001b[0m\u001b[90m \u001b[0m+44 20 7946 0958\u001b[90m \u001b[0m\u001b[90m│\u001b[0m\u001b[90m\n",
      "\u001b[0m\u001b[90m│\u001b[0m\u001b[90m           \u001b[0m3\u001b[90m \u001b[0m\u001b[90m│\u001b[0m\u001b[90m \u001b[0mAlice Johnson\u001b[90m \u001b[0m\u001b[90m│\u001b[0m\u001b[90m                 \u001b[0m3\u001b[90m \u001b[0m\u001b[90m│\u001b[0m\u001b[90m \u001b[0malice.j@example.com         \u001b[90m \u001b[0m\u001b[90m│\u001b[0m\u001b[90m \u001b[0m+49-30-12345678\u001b[90m  \u001b[0m\u001b[90m│\u001b[0m\u001b[90m\n",
      "\u001b[0m\u001b[90m└\u001b[0m\u001b[90m─\u001b[0m\u001b[90m─\u001b[0m\u001b[90m─\u001b[0m\u001b[90m─\u001b[0m\u001b[90m─\u001b[0m\u001b[90m─\u001b[0m\u001b[90m─\u001b[0m\u001b[90m─\u001b[0m\u001b[90m─\u001b[0m\u001b[90m─\u001b[0m\u001b[90m─\u001b[0m\u001b[90m─\u001b[0m\u001b[90m─\u001b[0m\u001b[90m┴\u001b[0m\u001b[90m─\u001b[0m\u001b[90m─\u001b[0m\u001b[90m─\u001b[0m\u001b[90m─\u001b[0m\u001b[90m─\u001b[0m\u001b[90m─\u001b[0m\u001b[90m─\u001b[0m\u001b[90m─\u001b[0m\u001b[90m─\u001b[0m\u001b[90m─\u001b[0m\u001b[90m─\u001b[0m\u001b[90m─\u001b[0m\u001b[90m─\u001b[0m\u001b[90m─\u001b[0m\u001b[90m─\u001b[0m\u001b[90m┴\u001b[0m\u001b[90m─\u001b[0m\u001b[90m─\u001b[0m\u001b[90m─\u001b[0m\u001b[90m─\u001b[0m\u001b[90m─\u001b[0m\u001b[90m─\u001b[0m\u001b[90m─\u001b[0m\u001b[90m─\u001b[0m\u001b[90m─\u001b[0m\u001b[90m─\u001b[0m\u001b[90m─\u001b[0m\u001b[90m─\u001b[0m\u001b[90m─\u001b[0m\u001b[90m─\u001b[0m\u001b[90m─\u001b[0m\u001b[90m─\u001b[0m\u001b[90m─\u001b[0m\u001b[90m─\u001b[0m\u001b[90m─\u001b[0m\u001b[90m┴\u001b[0m\u001b[90m─\u001b[0m\u001b[90m─\u001b[0m\u001b[90m─\u001b[0m\u001b[90m─\u001b[0m\u001b[90m─\u001b[0m\u001b[90m─\u001b[0m\u001b[90m─\u001b[0m\u001b[90m─\u001b[0m\u001b[90m─\u001b[0m\u001b[90m─\u001b[0m\u001b[90m─\u001b[0m\u001b[90m─\u001b[0m\u001b[90m─\u001b[0m\u001b[90m─\u001b[0m\u001b[90m─\u001b[0m\u001b[90m─\u001b[0m\u001b[90m─\u001b[0m\u001b[90m─\u001b[0m\u001b[90m─\u001b[0m\u001b[90m─\u001b[0m\u001b[90m─\u001b[0m\u001b[90m─\u001b[0m\u001b[90m─\u001b[0m\u001b[90m─\u001b[0m\u001b[90m─\u001b[0m\u001b[90m─\u001b[0m\u001b[90m─\u001b[0m\u001b[90m─\u001b[0m\u001b[90m─\u001b[0m\u001b[90m─\u001b[0m\u001b[90m┴\u001b[0m\u001b[90m─\u001b[0m\u001b[90m─\u001b[0m\u001b[90m─\u001b[0m\u001b[90m─\u001b[0m\u001b[90m─\u001b[0m\u001b[90m─\u001b[0m\u001b[90m─\u001b[0m\u001b[90m─\u001b[0m\u001b[90m─\u001b[0m\u001b[90m─\u001b[0m\u001b[90m─\u001b[0m\u001b[90m─\u001b[0m\u001b[90m─\u001b[0m\u001b[90m─\u001b[0m\u001b[90m─\u001b[0m\u001b[90m─\u001b[0m\u001b[90m─\u001b[0m\u001b[90m─\u001b[0m\u001b[90m┘\u001b[0m\u001b[90m\n",
      "\u001b[0m"
     ]
    }
   ],
   "source": [
    "!head -n 10 ../samples/customer.csv | duckdb -c \"SELECT * FROM read_csv('/dev/stdin') LIMIT 3;\""
   ]
  },
  {
   "cell_type": "markdown",
   "id": "229c63eb-8b8d-42a3-ba4e-a23967c25e2e",
   "metadata": {},
   "source": [
    "However, it's better to use a specialized Python package - for example, [Polars](https://pola.rs/)."
   ]
  },
  {
   "cell_type": "code",
   "execution_count": 3,
   "id": "8b6ad253-6867-4a23-9ad3-fd71689bab54",
   "metadata": {},
   "outputs": [
    {
     "data": {
      "text/html": [
       "<div><style>\n",
       ".dataframe > thead > tr,\n",
       ".dataframe > tbody > tr {\n",
       "  text-align: right;\n",
       "  white-space: pre-wrap;\n",
       "}\n",
       "</style>\n",
       "<small>shape: (5, 5)</small><table border=\"1\" class=\"dataframe\"><thead><tr><th>Customer ID</th><th>Name</th><th>Customer Group ID</th><th>Email</th><th>Phone Number</th></tr><tr><td>i64</td><td>str</td><td>i64</td><td>str</td><td>str</td></tr></thead><tbody><tr><td>1</td><td>&quot;John Doe&quot;</td><td>1</td><td>&quot;john.doe@gmail.com&nbsp;&nbsp;&nbsp;&nbsp;&nbsp;&nbsp;&nbsp;&nbsp;&nbsp;&nbsp;&quot;</td><td>&quot;+1-555-123-4567&quot;</td></tr><tr><td>2</td><td>&quot;Jane Smith&quot;</td><td>null</td><td>&quot;jane.smith@yahoo.com&nbsp;&nbsp;&nbsp;&nbsp;&nbsp;&nbsp;&nbsp;&nbsp;&quot;</td><td>&quot;+44 20 7946 0958&quot;</td></tr><tr><td>3</td><td>&quot;Alice Johnson&quot;</td><td>3</td><td>&quot;alice.j@example.com&nbsp;&nbsp;&nbsp;&nbsp;&nbsp;&nbsp;&nbsp;&nbsp;&nbsp;&quot;</td><td>&quot;+49-30-12345678&quot;</td></tr><tr><td>4</td><td>&quot;Bob Brown&quot;</td><td>4</td><td>&quot;bob.brown@outlook.com&nbsp;&nbsp;&nbsp;&nbsp;&nbsp;&nbsp;&nbsp;&quot;</td><td>&quot;+61-2-9876-5432&quot;</td></tr><tr><td>5</td><td>&quot;Carol White&quot;</td><td>null</td><td>&quot;carol.white@company.com&nbsp;&nbsp;&nbsp;&nbsp;&nbsp;&quot;</td><td>&quot;+1 (555) 567-8901&quot;</td></tr></tbody></table></div>"
      ],
      "text/plain": [
       "shape: (5, 5)\n",
       "┌─────────────┬───────────────┬───────────────────┬────────────────────────────┬───────────────────┐\n",
       "│ Customer ID ┆ Name          ┆ Customer Group ID ┆ Email                      ┆ Phone Number      │\n",
       "│ ---         ┆ ---           ┆ ---               ┆ ---                        ┆ ---               │\n",
       "│ i64         ┆ str           ┆ i64               ┆ str                        ┆ str               │\n",
       "╞═════════════╪═══════════════╪═══════════════════╪════════════════════════════╪═══════════════════╡\n",
       "│ 1           ┆ John Doe      ┆ 1                 ┆ john.doe@gmail.com         ┆ +1-555-123-4567   │\n",
       "│ 2           ┆ Jane Smith    ┆ null              ┆ jane.smith@yahoo.com       ┆ +44 20 7946 0958  │\n",
       "│ 3           ┆ Alice Johnson ┆ 3                 ┆ alice.j@example.com        ┆ +49-30-12345678   │\n",
       "│ 4           ┆ Bob Brown     ┆ 4                 ┆ bob.brown@outlook.com      ┆ +61-2-9876-5432   │\n",
       "│ 5           ┆ Carol White   ┆ null              ┆ carol.white@company.com    ┆ +1 (555) 567-8901 │\n",
       "└─────────────┴───────────────┴───────────────────┴────────────────────────────┴───────────────────┘"
      ]
     },
     "execution_count": 3,
     "metadata": {},
     "output_type": "execute_result"
    }
   ],
   "source": [
    "df_customer = pl.read_csv(f'{SAMPLES_DIR}/customer.csv')\n",
    "df_customer.head()"
   ]
  },
  {
   "cell_type": "code",
   "execution_count": 4,
   "id": "73db7924-706c-499e-b956-a5065a1c4a4c",
   "metadata": {},
   "outputs": [
    {
     "data": {
      "text/html": [
       "<div><style>\n",
       ".dataframe > thead > tr,\n",
       ".dataframe > tbody > tr {\n",
       "  text-align: right;\n",
       "  white-space: pre-wrap;\n",
       "}\n",
       "</style>\n",
       "<small>shape: (9, 6)</small><table border=\"1\" class=\"dataframe\"><thead><tr><th>statistic</th><th>Customer ID</th><th>Name</th><th>Customer Group ID</th><th>Email</th><th>Phone Number</th></tr><tr><td>str</td><td>f64</td><td>str</td><td>f64</td><td>str</td><td>str</td></tr></thead><tbody><tr><td>&quot;count&quot;</td><td>20.0</td><td>&quot;20&quot;</td><td>14.0</td><td>&quot;18&quot;</td><td>&quot;17&quot;</td></tr><tr><td>&quot;null_count&quot;</td><td>0.0</td><td>&quot;0&quot;</td><td>6.0</td><td>&quot;2&quot;</td><td>&quot;3&quot;</td></tr><tr><td>&quot;mean&quot;</td><td>10.5</td><td>null</td><td>5.428571</td><td>null</td><td>null</td></tr><tr><td>&quot;std&quot;</td><td>5.91608</td><td>null</td><td>3.10618</td><td>null</td><td>null</td></tr><tr><td>&quot;min&quot;</td><td>1.0</td><td>&quot;Alice Johnson&quot;</td><td>1.0</td><td>&quot;alice.j@example.com&nbsp;&nbsp;&nbsp;&nbsp;&nbsp;&nbsp;&nbsp;&nbsp;&nbsp;&quot;</td><td>&quot;+1 (555) 012-4567&quot;</td></tr><tr><td>&quot;25%&quot;</td><td>6.0</td><td>null</td><td>3.0</td><td>null</td><td>null</td></tr><tr><td>&quot;50%&quot;</td><td>11.0</td><td>null</td><td>6.0</td><td>null</td><td>null</td></tr><tr><td>&quot;75%&quot;</td><td>15.0</td><td>null</td><td>8.0</td><td>null</td><td>null</td></tr><tr><td>&quot;max&quot;</td><td>20.0</td><td>&quot;Rachel Walker&quot;</td><td>10.0</td><td>&quot;rachel.walker@company.net&nbsp;&nbsp;&nbsp;&quot;</td><td>&quot;+91-22-1234-5678&quot;</td></tr></tbody></table></div>"
      ],
      "text/plain": [
       "shape: (9, 6)\n",
       "┌────────────┬─────────────┬───────────────┬──────────────────┬──────────────────┬─────────────────┐\n",
       "│ statistic  ┆ Customer ID ┆ Name          ┆ Customer Group   ┆ Email            ┆ Phone Number    │\n",
       "│ ---        ┆ ---         ┆ ---           ┆ ID               ┆ ---              ┆ ---             │\n",
       "│ str        ┆ f64         ┆ str           ┆ ---              ┆ str              ┆ str             │\n",
       "│            ┆             ┆               ┆ f64              ┆                  ┆                 │\n",
       "╞════════════╪═════════════╪═══════════════╪══════════════════╪══════════════════╪═════════════════╡\n",
       "│ count      ┆ 20.0        ┆ 20            ┆ 14.0             ┆ 18               ┆ 17              │\n",
       "│ null_count ┆ 0.0         ┆ 0             ┆ 6.0              ┆ 2                ┆ 3               │\n",
       "│ mean       ┆ 10.5        ┆ null          ┆ 5.428571         ┆ null             ┆ null            │\n",
       "│ std        ┆ 5.91608     ┆ null          ┆ 3.10618          ┆ null             ┆ null            │\n",
       "│ min        ┆ 1.0         ┆ Alice Johnson ┆ 1.0              ┆ alice.j@example. ┆ +1 (555)        │\n",
       "│            ┆             ┆               ┆                  ┆ com              ┆ 012-4567        │\n",
       "│ 25%        ┆ 6.0         ┆ null          ┆ 3.0              ┆ null             ┆ null            │\n",
       "│ 50%        ┆ 11.0        ┆ null          ┆ 6.0              ┆ null             ┆ null            │\n",
       "│ 75%        ┆ 15.0        ┆ null          ┆ 8.0              ┆ null             ┆ null            │\n",
       "│ max        ┆ 20.0        ┆ Rachel Walker ┆ 10.0             ┆ rachel.walker@co ┆ +91-22-1234-567 │\n",
       "│            ┆             ┆               ┆                  ┆ mpany.net        ┆ 8               │\n",
       "└────────────┴─────────────┴───────────────┴──────────────────┴──────────────────┴─────────────────┘"
      ]
     },
     "execution_count": 4,
     "metadata": {},
     "output_type": "execute_result"
    }
   ],
   "source": [
    "df_customer.describe()"
   ]
  },
  {
   "cell_type": "markdown",
   "id": "6601d27b-5d9d-44be-9069-f73210969b24",
   "metadata": {},
   "source": [
    "Our observations:\n",
    "- Primary key - `Customer ID`\n",
    "- There are missing values in `Customer Group ID`, `Email`, and `Phone Number`\n",
    "- Phone number format is not consistent across the dataset"
   ]
  },
  {
   "cell_type": "markdown",
   "id": "221c2f71-4533-4008-afa1-90195a70df84",
   "metadata": {},
   "source": [
    "### EDA: Customer group"
   ]
  },
  {
   "cell_type": "code",
   "execution_count": 5,
   "id": "ecde6a3a-8513-417b-83cf-887c934d6c7e",
   "metadata": {},
   "outputs": [
    {
     "data": {
      "text/html": [
       "<div><style>\n",
       ".dataframe > thead > tr,\n",
       ".dataframe > tbody > tr {\n",
       "  text-align: right;\n",
       "  white-space: pre-wrap;\n",
       "}\n",
       "</style>\n",
       "<small>shape: (5, 4)</small><table border=\"1\" class=\"dataframe\"><thead><tr><th>ID</th><th>Type</th><th>Name</th><th>Registry number</th></tr><tr><td>i64</td><td>str</td><td>str</td><td>str</td></tr></thead><tbody><tr><td>1</td><td>&quot;Company&quot;</td><td>&quot;Bolt&quot;</td><td>&quot;5421524153&quot;</td></tr><tr><td>2</td><td>&quot;Company&quot;</td><td>&quot;BigBang&quot;</td><td>&quot;131101002&quot;</td></tr><tr><td>3</td><td>&quot;Company&quot;</td><td>&quot;Lofty&quot;</td><td>&quot;1533153&quot;</td></tr><tr><td>4</td><td>&quot;Private Group&quot;</td><td>&quot;Mari&#x27;s friends&quot;</td><td>null</td></tr><tr><td>5</td><td>&quot;Organisation&quot;</td><td>&quot;Non-profit for dog safety&quot;</td><td>&quot;AT452453&quot;</td></tr></tbody></table></div>"
      ],
      "text/plain": [
       "shape: (5, 4)\n",
       "┌─────┬───────────────┬───────────────────────────┬─────────────────┐\n",
       "│ ID  ┆ Type          ┆ Name                      ┆ Registry number │\n",
       "│ --- ┆ ---           ┆ ---                       ┆ ---             │\n",
       "│ i64 ┆ str           ┆ str                       ┆ str             │\n",
       "╞═════╪═══════════════╪═══════════════════════════╪═════════════════╡\n",
       "│ 1   ┆ Company       ┆ Bolt                      ┆ 5421524153      │\n",
       "│ 2   ┆ Company       ┆ BigBang                   ┆ 131101002       │\n",
       "│ 3   ┆ Company       ┆ Lofty                     ┆ 1533153         │\n",
       "│ 4   ┆ Private Group ┆ Mari's friends            ┆ null            │\n",
       "│ 5   ┆ Organisation  ┆ Non-profit for dog safety ┆ AT452453        │\n",
       "└─────┴───────────────┴───────────────────────────┴─────────────────┘"
      ]
     },
     "execution_count": 5,
     "metadata": {},
     "output_type": "execute_result"
    }
   ],
   "source": [
    "df_customer_group = pl.read_csv(f'{SAMPLES_DIR}/customer_group.csv')\n",
    "df_customer_group.head()"
   ]
  },
  {
   "cell_type": "code",
   "execution_count": 6,
   "id": "be13fa0c-d879-4551-be6a-610ee96bdfbf",
   "metadata": {},
   "outputs": [
    {
     "data": {
      "text/html": [
       "<div><style>\n",
       ".dataframe > thead > tr,\n",
       ".dataframe > tbody > tr {\n",
       "  text-align: right;\n",
       "  white-space: pre-wrap;\n",
       "}\n",
       "</style>\n",
       "<small>shape: (9, 5)</small><table border=\"1\" class=\"dataframe\"><thead><tr><th>statistic</th><th>ID</th><th>Type</th><th>Name</th><th>Registry number</th></tr><tr><td>str</td><td>f64</td><td>str</td><td>str</td><td>str</td></tr></thead><tbody><tr><td>&quot;count&quot;</td><td>5.0</td><td>&quot;5&quot;</td><td>&quot;5&quot;</td><td>&quot;4&quot;</td></tr><tr><td>&quot;null_count&quot;</td><td>0.0</td><td>&quot;0&quot;</td><td>&quot;0&quot;</td><td>&quot;1&quot;</td></tr><tr><td>&quot;mean&quot;</td><td>3.0</td><td>null</td><td>null</td><td>null</td></tr><tr><td>&quot;std&quot;</td><td>1.581139</td><td>null</td><td>null</td><td>null</td></tr><tr><td>&quot;min&quot;</td><td>1.0</td><td>&quot;Company&quot;</td><td>&quot;BigBang&quot;</td><td>&quot;131101002&quot;</td></tr><tr><td>&quot;25%&quot;</td><td>2.0</td><td>null</td><td>null</td><td>null</td></tr><tr><td>&quot;50%&quot;</td><td>3.0</td><td>null</td><td>null</td><td>null</td></tr><tr><td>&quot;75%&quot;</td><td>4.0</td><td>null</td><td>null</td><td>null</td></tr><tr><td>&quot;max&quot;</td><td>5.0</td><td>&quot;Private Group&quot;</td><td>&quot;Non-profit for dog safety&quot;</td><td>&quot;AT452453&quot;</td></tr></tbody></table></div>"
      ],
      "text/plain": [
       "shape: (9, 5)\n",
       "┌────────────┬──────────┬───────────────┬───────────────────────────┬─────────────────┐\n",
       "│ statistic  ┆ ID       ┆ Type          ┆ Name                      ┆ Registry number │\n",
       "│ ---        ┆ ---      ┆ ---           ┆ ---                       ┆ ---             │\n",
       "│ str        ┆ f64      ┆ str           ┆ str                       ┆ str             │\n",
       "╞════════════╪══════════╪═══════════════╪═══════════════════════════╪═════════════════╡\n",
       "│ count      ┆ 5.0      ┆ 5             ┆ 5                         ┆ 4               │\n",
       "│ null_count ┆ 0.0      ┆ 0             ┆ 0                         ┆ 1               │\n",
       "│ mean       ┆ 3.0      ┆ null          ┆ null                      ┆ null            │\n",
       "│ std        ┆ 1.581139 ┆ null          ┆ null                      ┆ null            │\n",
       "│ min        ┆ 1.0      ┆ Company       ┆ BigBang                   ┆ 131101002       │\n",
       "│ 25%        ┆ 2.0      ┆ null          ┆ null                      ┆ null            │\n",
       "│ 50%        ┆ 3.0      ┆ null          ┆ null                      ┆ null            │\n",
       "│ 75%        ┆ 4.0      ┆ null          ┆ null                      ┆ null            │\n",
       "│ max        ┆ 5.0      ┆ Private Group ┆ Non-profit for dog safety ┆ AT452453        │\n",
       "└────────────┴──────────┴───────────────┴───────────────────────────┴─────────────────┘"
      ]
     },
     "execution_count": 6,
     "metadata": {},
     "output_type": "execute_result"
    }
   ],
   "source": [
    "df_customer_group.describe()"
   ]
  },
  {
   "cell_type": "markdown",
   "id": "4fbd96e8-a381-4db0-af70-b99e273ff1db",
   "metadata": {},
   "source": [
    "Our observations:\n",
    "- Primary key - `ID`\n",
    "- Missing values and non-consistent format in `Registry number`"
   ]
  },
  {
   "cell_type": "markdown",
   "id": "cb083bc2-4b33-477f-badb-242f91aec69d",
   "metadata": {},
   "source": [
    "### EDA: Aeroplane"
   ]
  },
  {
   "cell_type": "code",
   "execution_count": 7,
   "id": "975e6f85-b941-474f-a623-5f3309bde130",
   "metadata": {},
   "outputs": [
    {
     "data": {
      "text/html": [
       "<div><style>\n",
       ".dataframe > thead > tr,\n",
       ".dataframe > tbody > tr {\n",
       "  text-align: right;\n",
       "  white-space: pre-wrap;\n",
       "}\n",
       "</style>\n",
       "<small>shape: (5, 3)</small><table border=\"1\" class=\"dataframe\"><thead><tr><th>Airplane ID</th><th>Airplane Model</th><th>Manufacturer</th></tr><tr><td>i64</td><td>str</td><td>str</td></tr></thead><tbody><tr><td>1</td><td>&quot;737-800&quot;</td><td>&quot;Boeing&quot;</td></tr><tr><td>2</td><td>&quot;A320neo&quot;</td><td>&quot;Airbus&quot;</td></tr><tr><td>3</td><td>&quot;E190-E2&quot;</td><td>&quot;Embraer&quot;</td></tr><tr><td>4</td><td>&quot;CRJ900&quot;</td><td>&quot;Bombardier&quot;</td></tr><tr><td>5</td><td>&quot;737-800&quot;</td><td>&quot;Boeing&quot;</td></tr></tbody></table></div>"
      ],
      "text/plain": [
       "shape: (5, 3)\n",
       "┌─────────────┬────────────────┬──────────────┐\n",
       "│ Airplane ID ┆ Airplane Model ┆ Manufacturer │\n",
       "│ ---         ┆ ---            ┆ ---          │\n",
       "│ i64         ┆ str            ┆ str          │\n",
       "╞═════════════╪════════════════╪══════════════╡\n",
       "│ 1           ┆ 737-800        ┆ Boeing       │\n",
       "│ 2           ┆ A320neo        ┆ Airbus       │\n",
       "│ 3           ┆ E190-E2        ┆ Embraer      │\n",
       "│ 4           ┆ CRJ900         ┆ Bombardier   │\n",
       "│ 5           ┆ 737-800        ┆ Boeing       │\n",
       "└─────────────┴────────────────┴──────────────┘"
      ]
     },
     "execution_count": 7,
     "metadata": {},
     "output_type": "execute_result"
    }
   ],
   "source": [
    "df_aeroplane = pl.read_csv(f'{SAMPLES_DIR}/aeroplane.csv')\n",
    "df_aeroplane.head()"
   ]
  },
  {
   "cell_type": "code",
   "execution_count": 8,
   "id": "5e8ba798-b6be-404d-b1f4-45571cf5c01c",
   "metadata": {},
   "outputs": [
    {
     "data": {
      "text/html": [
       "<div><style>\n",
       ".dataframe > thead > tr,\n",
       ".dataframe > tbody > tr {\n",
       "  text-align: right;\n",
       "  white-space: pre-wrap;\n",
       "}\n",
       "</style>\n",
       "<small>shape: (9, 4)</small><table border=\"1\" class=\"dataframe\"><thead><tr><th>statistic</th><th>Airplane ID</th><th>Airplane Model</th><th>Manufacturer</th></tr><tr><td>str</td><td>f64</td><td>str</td><td>str</td></tr></thead><tbody><tr><td>&quot;count&quot;</td><td>10.0</td><td>&quot;10&quot;</td><td>&quot;10&quot;</td></tr><tr><td>&quot;null_count&quot;</td><td>0.0</td><td>&quot;0&quot;</td><td>&quot;0&quot;</td></tr><tr><td>&quot;mean&quot;</td><td>5.5</td><td>null</td><td>null</td></tr><tr><td>&quot;std&quot;</td><td>3.02765</td><td>null</td><td>null</td></tr><tr><td>&quot;min&quot;</td><td>1.0</td><td>&quot;737-800&quot;</td><td>&quot;Airbus&quot;</td></tr><tr><td>&quot;25%&quot;</td><td>3.0</td><td>null</td><td>null</td></tr><tr><td>&quot;50%&quot;</td><td>6.0</td><td>null</td><td>null</td></tr><tr><td>&quot;75%&quot;</td><td>8.0</td><td>null</td><td>null</td></tr><tr><td>&quot;max&quot;</td><td>10.0</td><td>&quot;G650&quot;</td><td>&quot;Gulfstream&quot;</td></tr></tbody></table></div>"
      ],
      "text/plain": [
       "shape: (9, 4)\n",
       "┌────────────┬─────────────┬────────────────┬──────────────┐\n",
       "│ statistic  ┆ Airplane ID ┆ Airplane Model ┆ Manufacturer │\n",
       "│ ---        ┆ ---         ┆ ---            ┆ ---          │\n",
       "│ str        ┆ f64         ┆ str            ┆ str          │\n",
       "╞════════════╪═════════════╪════════════════╪══════════════╡\n",
       "│ count      ┆ 10.0        ┆ 10             ┆ 10           │\n",
       "│ null_count ┆ 0.0         ┆ 0              ┆ 0            │\n",
       "│ mean       ┆ 5.5         ┆ null           ┆ null         │\n",
       "│ std        ┆ 3.02765     ┆ null           ┆ null         │\n",
       "│ min        ┆ 1.0         ┆ 737-800        ┆ Airbus       │\n",
       "│ 25%        ┆ 3.0         ┆ null           ┆ null         │\n",
       "│ 50%        ┆ 6.0         ┆ null           ┆ null         │\n",
       "│ 75%        ┆ 8.0         ┆ null           ┆ null         │\n",
       "│ max        ┆ 10.0        ┆ G650           ┆ Gulfstream   │\n",
       "└────────────┴─────────────┴────────────────┴──────────────┘"
      ]
     },
     "execution_count": 8,
     "metadata": {},
     "output_type": "execute_result"
    }
   ],
   "source": [
    "df_aeroplane.describe()"
   ]
  },
  {
   "cell_type": "markdown",
   "id": "e4b80f9f-a32a-41d4-b8fd-95c9d1f3aa35",
   "metadata": {},
   "source": [
    "Our observations:\n",
    "- Primary key - `Airplane ID`\n",
    "- No modeling-related DQ issues"
   ]
  },
  {
   "cell_type": "markdown",
   "id": "060f0db7-11cd-41c7-89da-691d4506dd30",
   "metadata": {},
   "source": [
    "### EDA: Trip"
   ]
  },
  {
   "cell_type": "code",
   "execution_count": 9,
   "id": "94fc22e5-4a00-4eaa-9a38-2345b24a68bd",
   "metadata": {},
   "outputs": [
    {
     "data": {
      "text/html": [
       "<div><style>\n",
       ".dataframe > thead > tr,\n",
       ".dataframe > tbody > tr {\n",
       "  text-align: right;\n",
       "  white-space: pre-wrap;\n",
       "}\n",
       "</style>\n",
       "<small>shape: (5, 6)</small><table border=\"1\" class=\"dataframe\"><thead><tr><th>Trip ID</th><th>Origin City</th><th>Destination City</th><th>Airplane ID</th><th>Start Timestamp</th><th>End Timestamp</th></tr><tr><td>i64</td><td>str</td><td>str</td><td>i64</td><td>str</td><td>str</td></tr></thead><tbody><tr><td>1</td><td>&quot;New York&quot;</td><td>&quot;London&quot;</td><td>1</td><td>&quot;2024-08-01 14:30:00&quot;</td><td>&quot;2024-08-02 02:00:00&quot;</td></tr><tr><td>2</td><td>&quot;Tokyo&quot;</td><td>&quot;Paris&quot;</td><td>2</td><td>&quot;2024-08-03 09:00:00&quot;</td><td>&quot;2024-08-03 17:00:00&quot;</td></tr><tr><td>3</td><td>&quot;Sydney&quot;</td><td>&quot;Los Angeles&quot;</td><td>3</td><td>&quot;2024-08-05 22:00:00&quot;</td><td>&quot;2024-08-05 15:00:00&quot;</td></tr><tr><td>4</td><td>&quot;Dubai&quot;</td><td>&quot;Singapore&quot;</td><td>4</td><td>&quot;2024-08-07 06:00:00&quot;</td><td>&quot;2024-08-07 10:30:00&quot;</td></tr><tr><td>5</td><td>&quot;Berlin&quot;</td><td>&quot;Madrid&quot;</td><td>5</td><td>&quot;2024-08-09 16:00:00&quot;</td><td>&quot;2024-08-09 19:00:00&quot;</td></tr></tbody></table></div>"
      ],
      "text/plain": [
       "shape: (5, 6)\n",
       "┌─────────┬─────────────┬──────────────────┬─────────────┬─────────────────┬───────────────────────┐\n",
       "│ Trip ID ┆ Origin City ┆ Destination City ┆ Airplane ID ┆ Start Timestamp ┆ End Timestamp         │\n",
       "│ ---     ┆ ---         ┆ ---              ┆ ---         ┆ ---             ┆ ---                   │\n",
       "│ i64     ┆ str         ┆ str              ┆ i64         ┆ str             ┆ str                   │\n",
       "╞═════════╪═════════════╪══════════════════╪═════════════╪═════════════════╪═══════════════════════╡\n",
       "│ 1       ┆ New York    ┆ London           ┆ 1           ┆ 2024-08-01      ┆ 2024-08-02 02:00:00   │\n",
       "│         ┆             ┆                  ┆             ┆ 14:30:00        ┆                       │\n",
       "│ 2       ┆ Tokyo       ┆ Paris            ┆ 2           ┆ 2024-08-03      ┆ 2024-08-03 17:00:00   │\n",
       "│         ┆             ┆                  ┆             ┆ 09:00:00        ┆                       │\n",
       "│ 3       ┆ Sydney      ┆ Los Angeles      ┆ 3           ┆ 2024-08-05      ┆ 2024-08-05 15:00:00   │\n",
       "│         ┆             ┆                  ┆             ┆ 22:00:00        ┆                       │\n",
       "│ 4       ┆ Dubai       ┆ Singapore        ┆ 4           ┆ 2024-08-07      ┆ 2024-08-07 10:30:00   │\n",
       "│         ┆             ┆                  ┆             ┆ 06:00:00        ┆                       │\n",
       "│ 5       ┆ Berlin      ┆ Madrid           ┆ 5           ┆ 2024-08-09      ┆ 2024-08-09 19:00:00   │\n",
       "│         ┆             ┆                  ┆             ┆ 16:00:00        ┆                       │\n",
       "└─────────┴─────────────┴──────────────────┴─────────────┴─────────────────┴───────────────────────┘"
      ]
     },
     "execution_count": 9,
     "metadata": {},
     "output_type": "execute_result"
    }
   ],
   "source": [
    "df_trip = pl.read_csv(f'{SAMPLES_DIR}/trip.csv')\n",
    "df_trip.head()"
   ]
  },
  {
   "cell_type": "code",
   "execution_count": 10,
   "id": "d0730d93-c021-4d7c-8a45-ae36e0bab3b3",
   "metadata": {},
   "outputs": [
    {
     "data": {
      "text/html": [
       "<div><style>\n",
       ".dataframe > thead > tr,\n",
       ".dataframe > tbody > tr {\n",
       "  text-align: right;\n",
       "  white-space: pre-wrap;\n",
       "}\n",
       "</style>\n",
       "<small>shape: (9, 7)</small><table border=\"1\" class=\"dataframe\"><thead><tr><th>statistic</th><th>Trip ID</th><th>Origin City</th><th>Destination City</th><th>Airplane ID</th><th>Start Timestamp</th><th>End Timestamp</th></tr><tr><td>str</td><td>f64</td><td>str</td><td>str</td><td>f64</td><td>str</td><td>str</td></tr></thead><tbody><tr><td>&quot;count&quot;</td><td>20.0</td><td>&quot;20&quot;</td><td>&quot;20&quot;</td><td>20.0</td><td>&quot;20&quot;</td><td>&quot;20&quot;</td></tr><tr><td>&quot;null_count&quot;</td><td>0.0</td><td>&quot;0&quot;</td><td>&quot;0&quot;</td><td>0.0</td><td>&quot;0&quot;</td><td>&quot;0&quot;</td></tr><tr><td>&quot;mean&quot;</td><td>10.5</td><td>null</td><td>null</td><td>5.5</td><td>null</td><td>null</td></tr><tr><td>&quot;std&quot;</td><td>5.91608</td><td>null</td><td>null</td><td>2.946898</td><td>null</td><td>null</td></tr><tr><td>&quot;min&quot;</td><td>1.0</td><td>&quot;Amsterdam&quot;</td><td>&quot;Auckland&quot;</td><td>1.0</td><td>&quot;2024-08-01 14:30:00&quot;</td><td>&quot;2024-08-02 02:00:00&quot;</td></tr><tr><td>&quot;25%&quot;</td><td>6.0</td><td>null</td><td>null</td><td>3.0</td><td>null</td><td>null</td></tr><tr><td>&quot;50%&quot;</td><td>11.0</td><td>null</td><td>null</td><td>6.0</td><td>null</td><td>null</td></tr><tr><td>&quot;75%&quot;</td><td>15.0</td><td>null</td><td>null</td><td>8.0</td><td>null</td><td>null</td></tr><tr><td>&quot;max&quot;</td><td>20.0</td><td>&quot;Vancouver&quot;</td><td>&quot;Tokyo&quot;</td><td>10.0</td><td>&quot;2024-08-28 09:00:00&quot;</td><td>&quot;2024-08-28 13:30:00&quot;</td></tr></tbody></table></div>"
      ],
      "text/plain": [
       "shape: (9, 7)\n",
       "┌────────────┬─────────┬─────────────┬─────────────┬─────────────┬────────────┬───────────────┐\n",
       "│ statistic  ┆ Trip ID ┆ Origin City ┆ Destination ┆ Airplane ID ┆ Start      ┆ End Timestamp │\n",
       "│ ---        ┆ ---     ┆ ---         ┆ City        ┆ ---         ┆ Timestamp  ┆ ---           │\n",
       "│ str        ┆ f64     ┆ str         ┆ ---         ┆ f64         ┆ ---        ┆ str           │\n",
       "│            ┆         ┆             ┆ str         ┆             ┆ str        ┆               │\n",
       "╞════════════╪═════════╪═════════════╪═════════════╪═════════════╪════════════╪═══════════════╡\n",
       "│ count      ┆ 20.0    ┆ 20          ┆ 20          ┆ 20.0        ┆ 20         ┆ 20            │\n",
       "│ null_count ┆ 0.0     ┆ 0           ┆ 0           ┆ 0.0         ┆ 0          ┆ 0             │\n",
       "│ mean       ┆ 10.5    ┆ null        ┆ null        ┆ 5.5         ┆ null       ┆ null          │\n",
       "│ std        ┆ 5.91608 ┆ null        ┆ null        ┆ 2.946898    ┆ null       ┆ null          │\n",
       "│ min        ┆ 1.0     ┆ Amsterdam   ┆ Auckland    ┆ 1.0         ┆ 2024-08-01 ┆ 2024-08-02    │\n",
       "│            ┆         ┆             ┆             ┆             ┆ 14:30:00   ┆ 02:00:00      │\n",
       "│ 25%        ┆ 6.0     ┆ null        ┆ null        ┆ 3.0         ┆ null       ┆ null          │\n",
       "│ 50%        ┆ 11.0    ┆ null        ┆ null        ┆ 6.0         ┆ null       ┆ null          │\n",
       "│ 75%        ┆ 15.0    ┆ null        ┆ null        ┆ 8.0         ┆ null       ┆ null          │\n",
       "│ max        ┆ 20.0    ┆ Vancouver   ┆ Tokyo       ┆ 10.0        ┆ 2024-08-28 ┆ 2024-08-28    │\n",
       "│            ┆         ┆             ┆             ┆             ┆ 09:00:00   ┆ 13:30:00      │\n",
       "└────────────┴─────────┴─────────────┴─────────────┴─────────────┴────────────┴───────────────┘"
      ]
     },
     "execution_count": 10,
     "metadata": {},
     "output_type": "execute_result"
    }
   ],
   "source": [
    "df_trip.describe()"
   ]
  },
  {
   "cell_type": "markdown",
   "id": "29d23ff1-e401-4af2-a100-e0f4a9a46abc",
   "metadata": {},
   "source": [
    "Our observations:\n",
    "- Primary key - `Trip ID`\n",
    "- No modeling-related DQ issues"
   ]
  },
  {
   "cell_type": "markdown",
   "id": "29dfab1c-8a3f-4725-9016-bb2e6a992aa0",
   "metadata": {},
   "source": [
    "### EDA: Order"
   ]
  },
  {
   "cell_type": "code",
   "execution_count": 11,
   "id": "e55050b2-61ec-4a80-9553-85aafd4438cb",
   "metadata": {},
   "outputs": [
    {
     "data": {
      "text/html": [
       "<div><style>\n",
       ".dataframe > thead > tr,\n",
       ".dataframe > tbody > tr {\n",
       "  text-align: right;\n",
       "  white-space: pre-wrap;\n",
       "}\n",
       "</style>\n",
       "<small>shape: (5, 6)</small><table border=\"1\" class=\"dataframe\"><thead><tr><th>Order ID</th><th>Customer ID</th><th>Trip ID</th><th>Price (EUR)</th><th>Seat No</th><th>Status</th></tr><tr><td>i64</td><td>i64</td><td>i64</td><td>i64</td><td>str</td><td>str</td></tr></thead><tbody><tr><td>1</td><td>3</td><td>10</td><td>1200</td><td>&quot;12A&quot;</td><td>&quot;Finished&quot;</td></tr><tr><td>2</td><td>5</td><td>7</td><td>1800</td><td>&quot;8B&quot;</td><td>&quot;Finished&quot;</td></tr><tr><td>3</td><td>8</td><td>2</td><td>1500</td><td>&quot;15C&quot;</td><td>&quot;Finished&quot;</td></tr><tr><td>4</td><td>12</td><td>8</td><td>1300</td><td>&quot;21D&quot;</td><td>&quot;Finished&quot;</td></tr><tr><td>5</td><td>16</td><td>8</td><td>700</td><td>&quot;3E&quot;</td><td>&quot;Finished&quot;</td></tr></tbody></table></div>"
      ],
      "text/plain": [
       "shape: (5, 6)\n",
       "┌──────────┬─────────────┬─────────┬─────────────┬─────────┬──────────┐\n",
       "│ Order ID ┆ Customer ID ┆ Trip ID ┆ Price (EUR) ┆ Seat No ┆ Status   │\n",
       "│ ---      ┆ ---         ┆ ---     ┆ ---         ┆ ---     ┆ ---      │\n",
       "│ i64      ┆ i64         ┆ i64     ┆ i64         ┆ str     ┆ str      │\n",
       "╞══════════╪═════════════╪═════════╪═════════════╪═════════╪══════════╡\n",
       "│ 1        ┆ 3           ┆ 10      ┆ 1200        ┆ 12A     ┆ Finished │\n",
       "│ 2        ┆ 5           ┆ 7       ┆ 1800        ┆ 8B      ┆ Finished │\n",
       "│ 3        ┆ 8           ┆ 2       ┆ 1500        ┆ 15C     ┆ Finished │\n",
       "│ 4        ┆ 12          ┆ 8       ┆ 1300        ┆ 21D     ┆ Finished │\n",
       "│ 5        ┆ 16          ┆ 8       ┆ 700         ┆ 3E      ┆ Finished │\n",
       "└──────────┴─────────────┴─────────┴─────────────┴─────────┴──────────┘"
      ]
     },
     "execution_count": 11,
     "metadata": {},
     "output_type": "execute_result"
    }
   ],
   "source": [
    "df_order = pl.read_csv(f'{SAMPLES_DIR}/order.csv')\n",
    "df_order.head()"
   ]
  },
  {
   "cell_type": "code",
   "execution_count": 12,
   "id": "1d8198ab-6164-424a-ae67-4c0eb088e172",
   "metadata": {},
   "outputs": [
    {
     "data": {
      "text/html": [
       "<div><style>\n",
       ".dataframe > thead > tr,\n",
       ".dataframe > tbody > tr {\n",
       "  text-align: right;\n",
       "  white-space: pre-wrap;\n",
       "}\n",
       "</style>\n",
       "<small>shape: (9, 7)</small><table border=\"1\" class=\"dataframe\"><thead><tr><th>statistic</th><th>Order ID</th><th>Customer ID</th><th>Trip ID</th><th>Price (EUR)</th><th>Seat No</th><th>Status</th></tr><tr><td>str</td><td>f64</td><td>f64</td><td>f64</td><td>f64</td><td>str</td><td>str</td></tr></thead><tbody><tr><td>&quot;count&quot;</td><td>20.0</td><td>20.0</td><td>20.0</td><td>20.0</td><td>&quot;20&quot;</td><td>&quot;20&quot;</td></tr><tr><td>&quot;null_count&quot;</td><td>0.0</td><td>0.0</td><td>0.0</td><td>0.0</td><td>&quot;0&quot;</td><td>&quot;0&quot;</td></tr><tr><td>&quot;mean&quot;</td><td>10.5</td><td>10.5</td><td>5.95</td><td>1510.0</td><td>null</td><td>null</td></tr><tr><td>&quot;std&quot;</td><td>5.91608</td><td>5.91608</td><td>2.605157</td><td>606.890261</td><td>null</td><td>null</td></tr><tr><td>&quot;min&quot;</td><td>1.0</td><td>1.0</td><td>2.0</td><td>500.0</td><td>&quot;10E&quot;</td><td>&quot;Booked&quot;</td></tr><tr><td>&quot;25%&quot;</td><td>6.0</td><td>6.0</td><td>4.0</td><td>1100.0</td><td>null</td><td>null</td></tr><tr><td>&quot;50%&quot;</td><td>11.0</td><td>11.0</td><td>6.0</td><td>1600.0</td><td>null</td><td>null</td></tr><tr><td>&quot;75%&quot;</td><td>15.0</td><td>15.0</td><td>8.0</td><td>2000.0</td><td>null</td><td>null</td></tr><tr><td>&quot;max&quot;</td><td>20.0</td><td>20.0</td><td>10.0</td><td>2500.0</td><td>&quot;9F&quot;</td><td>&quot;Finished&quot;</td></tr></tbody></table></div>"
      ],
      "text/plain": [
       "shape: (9, 7)\n",
       "┌────────────┬──────────┬─────────────┬──────────┬─────────────┬─────────┬──────────┐\n",
       "│ statistic  ┆ Order ID ┆ Customer ID ┆ Trip ID  ┆ Price (EUR) ┆ Seat No ┆ Status   │\n",
       "│ ---        ┆ ---      ┆ ---         ┆ ---      ┆ ---         ┆ ---     ┆ ---      │\n",
       "│ str        ┆ f64      ┆ f64         ┆ f64      ┆ f64         ┆ str     ┆ str      │\n",
       "╞════════════╪══════════╪═════════════╪══════════╪═════════════╪═════════╪══════════╡\n",
       "│ count      ┆ 20.0     ┆ 20.0        ┆ 20.0     ┆ 20.0        ┆ 20      ┆ 20       │\n",
       "│ null_count ┆ 0.0      ┆ 0.0         ┆ 0.0      ┆ 0.0         ┆ 0       ┆ 0        │\n",
       "│ mean       ┆ 10.5     ┆ 10.5        ┆ 5.95     ┆ 1510.0      ┆ null    ┆ null     │\n",
       "│ std        ┆ 5.91608  ┆ 5.91608     ┆ 2.605157 ┆ 606.890261  ┆ null    ┆ null     │\n",
       "│ min        ┆ 1.0      ┆ 1.0         ┆ 2.0      ┆ 500.0       ┆ 10E     ┆ Booked   │\n",
       "│ 25%        ┆ 6.0      ┆ 6.0         ┆ 4.0      ┆ 1100.0      ┆ null    ┆ null     │\n",
       "│ 50%        ┆ 11.0     ┆ 11.0        ┆ 6.0      ┆ 1600.0      ┆ null    ┆ null     │\n",
       "│ 75%        ┆ 15.0     ┆ 15.0        ┆ 8.0      ┆ 2000.0      ┆ null    ┆ null     │\n",
       "│ max        ┆ 20.0     ┆ 20.0        ┆ 10.0     ┆ 2500.0      ┆ 9F      ┆ Finished │\n",
       "└────────────┴──────────┴─────────────┴──────────┴─────────────┴─────────┴──────────┘"
      ]
     },
     "execution_count": 12,
     "metadata": {},
     "output_type": "execute_result"
    }
   ],
   "source": [
    "df_order.describe()"
   ]
  },
  {
   "cell_type": "markdown",
   "id": "8a85f2e4-c5de-4d9b-bdf9-40599427132d",
   "metadata": {},
   "source": [
    "Our observations:\n",
    "- Primary key - `Order ID`\n",
    "- No modeling-related DQ issues"
   ]
  },
  {
   "cell_type": "markdown",
   "id": "02ba546a-88c1-47f1-8dd8-d107d34941ee",
   "metadata": {},
   "source": [
    "### Aeroplane model"
   ]
  },
  {
   "cell_type": "code",
   "execution_count": 13,
   "id": "09ff81f6-29aa-4786-ac5b-7aa142362524",
   "metadata": {},
   "outputs": [
    {
     "data": {
      "text/html": [
       "<div><style>\n",
       ".dataframe > thead > tr,\n",
       ".dataframe > tbody > tr {\n",
       "  text-align: right;\n",
       "  white-space: pre-wrap;\n",
       "}\n",
       "</style>\n",
       "<small>shape: (1, 9)</small><table border=\"1\" class=\"dataframe\"><thead><tr><th>Boeing</th><th>Airbus</th><th>Embraer</th><th>Bombardier</th><th>Cessna</th><th>Gulfstream</th><th>Dassault</th><th>Mitsubishi</th><th>COMAC</th></tr><tr><td>struct[3]</td><td>struct[3]</td><td>struct[3]</td><td>struct[2]</td><td>struct[2]</td><td>struct[2]</td><td>struct[2]</td><td>struct[1]</td><td>struct[1]</td></tr></thead><tbody><tr><td>{{189,79015,2935,&quot;CFM56-7B&quot;},{396,351535,7930,&quot;GE90-115B&quot;},{296,254000,7635,&quot;GEnx-1B&quot;}}</td><td>{{194,79000,3700,&quot;CFM LEAP-1A&quot;},{440,280000,8100,&quot;Rolls-Royce Trent XWB&quot;},{853,560000,8000,&quot;Rolls-Royce Trent 900&quot;}}</td><td>{{114,56600,3250,&quot;PW1900G&quot;},{88,37500,2200,&quot;CF34-8E&quot;},{146,61700,2600,&quot;PW1900G&quot;}}</td><td>{{90,38530,1554,&quot;CF34-8C5&quot;},{90,29257,1567,&quot;PW150A&quot;}}</td><td>{{12,16555,3516,&quot;AE3007C2&quot;},{9,13605,2700,&quot;PW306D1&quot;}}</td><td>{{19,45360,7500,&quot;BR725&quot;},{19,41300,6750,&quot;BR710&quot;}}</td><td>{{19,31750,5950,&quot;PW307A&quot;},{10,19105,4000,&quot;PW308C&quot;}}</td><td>{{92,39000,2030,&quot;PW1200G&quot;}}</td><td>{{174,72500,2555,&quot;CFM LEAP-1C&quot;}}</td></tr></tbody></table></div>"
      ],
      "text/plain": [
       "shape: (1, 9)\n",
       "┌───────────┬───────────┬───────────┬───────────┬───┬───────────┬───────────┬───────────┬──────────┐\n",
       "│ Boeing    ┆ Airbus    ┆ Embraer   ┆ Bombardie ┆ … ┆ Gulfstrea ┆ Dassault  ┆ Mitsubish ┆ COMAC    │\n",
       "│ ---       ┆ ---       ┆ ---       ┆ r         ┆   ┆ m         ┆ ---       ┆ i         ┆ ---      │\n",
       "│ struct[3] ┆ struct[3] ┆ struct[3] ┆ ---       ┆   ┆ ---       ┆ struct[2] ┆ ---       ┆ struct[1 │\n",
       "│           ┆           ┆           ┆ struct[2] ┆   ┆ struct[2] ┆           ┆ struct[1] ┆ ]        │\n",
       "╞═══════════╪═══════════╪═══════════╪═══════════╪═══╪═══════════╪═══════════╪═══════════╪══════════╡\n",
       "│ {{189,790 ┆ {{194,790 ┆ {{114,566 ┆ {{90,3853 ┆ … ┆ {{19,4536 ┆ {{19,3175 ┆ {{92,3900 ┆ {{174,72 │\n",
       "│ 15,2935,\" ┆ 00,3700,\" ┆ 00,3250,\" ┆ 0,1554,\"C ┆   ┆ 0,7500,\"B ┆ 0,5950,\"P ┆ 0,2030,\"P ┆ 500,2555 │\n",
       "│ CFM56-7B\" ┆ CFM       ┆ PW1900G\"} ┆ F34-8C5\"} ┆   ┆ R725\"},{1 ┆ W307A\"},{ ┆ W1200G\"}} ┆ ,\"CFM    │\n",
       "│ },{…      ┆ LEAP-1A\"… ┆ ,{8…      ┆ ,{9…      ┆   ┆ 9,4…      ┆ 10,…      ┆           ┆ LEAP-1C\" │\n",
       "│           ┆           ┆           ┆           ┆   ┆           ┆           ┆           ┆ …        │\n",
       "└───────────┴───────────┴───────────┴───────────┴───┴───────────┴───────────┴───────────┴──────────┘"
      ]
     },
     "execution_count": 13,
     "metadata": {},
     "output_type": "execute_result"
    }
   ],
   "source": [
    "df_aeroplane_model = pl.read_json(f'{SAMPLES_DIR}/aeroplane_model.json')\n",
    "df_aeroplane_model.head()"
   ]
  },
  {
   "cell_type": "code",
   "execution_count": 14,
   "id": "472fc4e0-7b19-48e9-8a9e-aebf208182b0",
   "metadata": {},
   "outputs": [
    {
     "data": {
      "text/html": [
       "<div><style>\n",
       ".dataframe > thead > tr,\n",
       ".dataframe > tbody > tr {\n",
       "  text-align: right;\n",
       "  white-space: pre-wrap;\n",
       "}\n",
       "</style>\n",
       "<small>shape: (9, 10)</small><table border=\"1\" class=\"dataframe\"><thead><tr><th>statistic</th><th>Boeing</th><th>Airbus</th><th>Embraer</th><th>Bombardier</th><th>Cessna</th><th>Gulfstream</th><th>Dassault</th><th>Mitsubishi</th><th>COMAC</th></tr><tr><td>str</td><td>f64</td><td>f64</td><td>f64</td><td>f64</td><td>f64</td><td>f64</td><td>f64</td><td>f64</td><td>f64</td></tr></thead><tbody><tr><td>&quot;count&quot;</td><td>1.0</td><td>1.0</td><td>1.0</td><td>1.0</td><td>1.0</td><td>1.0</td><td>1.0</td><td>1.0</td><td>1.0</td></tr><tr><td>&quot;null_count&quot;</td><td>0.0</td><td>0.0</td><td>0.0</td><td>0.0</td><td>0.0</td><td>0.0</td><td>0.0</td><td>0.0</td><td>0.0</td></tr><tr><td>&quot;mean&quot;</td><td>null</td><td>null</td><td>null</td><td>null</td><td>null</td><td>null</td><td>null</td><td>null</td><td>null</td></tr><tr><td>&quot;std&quot;</td><td>null</td><td>null</td><td>null</td><td>null</td><td>null</td><td>null</td><td>null</td><td>null</td><td>null</td></tr><tr><td>&quot;min&quot;</td><td>null</td><td>null</td><td>null</td><td>null</td><td>null</td><td>null</td><td>null</td><td>null</td><td>null</td></tr><tr><td>&quot;25%&quot;</td><td>null</td><td>null</td><td>null</td><td>null</td><td>null</td><td>null</td><td>null</td><td>null</td><td>null</td></tr><tr><td>&quot;50%&quot;</td><td>null</td><td>null</td><td>null</td><td>null</td><td>null</td><td>null</td><td>null</td><td>null</td><td>null</td></tr><tr><td>&quot;75%&quot;</td><td>null</td><td>null</td><td>null</td><td>null</td><td>null</td><td>null</td><td>null</td><td>null</td><td>null</td></tr><tr><td>&quot;max&quot;</td><td>null</td><td>null</td><td>null</td><td>null</td><td>null</td><td>null</td><td>null</td><td>null</td><td>null</td></tr></tbody></table></div>"
      ],
      "text/plain": [
       "shape: (9, 10)\n",
       "┌────────────┬────────┬────────┬─────────┬───┬────────────┬──────────┬────────────┬───────┐\n",
       "│ statistic  ┆ Boeing ┆ Airbus ┆ Embraer ┆ … ┆ Gulfstream ┆ Dassault ┆ Mitsubishi ┆ COMAC │\n",
       "│ ---        ┆ ---    ┆ ---    ┆ ---     ┆   ┆ ---        ┆ ---      ┆ ---        ┆ ---   │\n",
       "│ str        ┆ f64    ┆ f64    ┆ f64     ┆   ┆ f64        ┆ f64      ┆ f64        ┆ f64   │\n",
       "╞════════════╪════════╪════════╪═════════╪═══╪════════════╪══════════╪════════════╪═══════╡\n",
       "│ count      ┆ 1.0    ┆ 1.0    ┆ 1.0     ┆ … ┆ 1.0        ┆ 1.0      ┆ 1.0        ┆ 1.0   │\n",
       "│ null_count ┆ 0.0    ┆ 0.0    ┆ 0.0     ┆ … ┆ 0.0        ┆ 0.0      ┆ 0.0        ┆ 0.0   │\n",
       "│ mean       ┆ null   ┆ null   ┆ null    ┆ … ┆ null       ┆ null     ┆ null       ┆ null  │\n",
       "│ std        ┆ null   ┆ null   ┆ null    ┆ … ┆ null       ┆ null     ┆ null       ┆ null  │\n",
       "│ min        ┆ null   ┆ null   ┆ null    ┆ … ┆ null       ┆ null     ┆ null       ┆ null  │\n",
       "│ 25%        ┆ null   ┆ null   ┆ null    ┆ … ┆ null       ┆ null     ┆ null       ┆ null  │\n",
       "│ 50%        ┆ null   ┆ null   ┆ null    ┆ … ┆ null       ┆ null     ┆ null       ┆ null  │\n",
       "│ 75%        ┆ null   ┆ null   ┆ null    ┆ … ┆ null       ┆ null     ┆ null       ┆ null  │\n",
       "│ max        ┆ null   ┆ null   ┆ null    ┆ … ┆ null       ┆ null     ┆ null       ┆ null  │\n",
       "└────────────┴────────┴────────┴─────────┴───┴────────────┴──────────┴────────────┴───────┘"
      ]
     },
     "execution_count": 14,
     "metadata": {},
     "output_type": "execute_result"
    }
   ],
   "source": [
    "df_aeroplane_model.describe()"
   ]
  },
  {
   "cell_type": "markdown",
   "id": "11bcf694-a152-40b6-bad6-7211d3278f27",
   "metadata": {},
   "source": [
    "Our observations:\n",
    "- Semi-structured dataset with unique top-level key representing manufacturer\n",
    "- No modeling-related DQ issues\n",
    "\n",
    "***"
   ]
  },
  {
   "cell_type": "markdown",
   "id": "5591922e-5a3d-4976-9030-77a0fabc56f6",
   "metadata": {},
   "source": [
    "## Data Modeling"
   ]
  },
  {
   "cell_type": "markdown",
   "id": "eb2815d1-c9ff-4675-bb8e-b47846f7e2c3",
   "metadata": {},
   "source": [
    "We are done with understanding the business context and EDA, which are essential steps before starting any modeling or engineering activity.\n",
    " \n",
    "Now we can do data modeling. \n",
    "\n",
    "For diagrams I will use a code-first tool called [Mermaid](https://mermaid.js.org/)."
   ]
  },
  {
   "cell_type": "markdown",
   "id": "1a5cfd39-d0ce-4394-acac-8235e9ee5fd9",
   "metadata": {},
   "source": [
    "### Conceptual model"
   ]
  },
  {
   "cell_type": "markdown",
   "id": "e2705d41-60c4-4c25-8f44-3a4781e6560f",
   "metadata": {},
   "source": [
    "```mermaid\n",
    "\n",
    "graph TB;  \n",
    "    order -- placed by --> customer;\n",
    "    customer -- belongs to --> customer_group;\n",
    "    order -- is seat reservation for --> trip;\n",
    "    trip -- is carried out using --> aeroplane;\n",
    "    aeroplane -- is instance of --> aeroplane_model;\n",
    "```"
   ]
  },
  {
   "cell_type": "markdown",
   "id": "30f87469-8a51-430a-884b-005d6938a24c",
   "metadata": {},
   "source": [
    "### Logical model"
   ]
  },
  {
   "cell_type": "markdown",
   "id": "40291d93-46aa-491d-8212-bce72f8a315e",
   "metadata": {},
   "source": [
    "As of today, the most commonly adopted approach to modeling data for analytics is **dimensional modeling** originally developed by Ralph Kimball. I will stick to this approach and implement Star Schema."
   ]
  },
  {
   "cell_type": "markdown",
   "id": "a3649398-41da-46b0-8a10-0224c1d7bcff",
   "metadata": {},
   "source": [
    "```mermaid\n",
    "erDiagram\n",
    "    fct_order {\n",
    "        integer order_id PK\n",
    "        integer customer_id FK\n",
    "        integer trip_id FK\n",
    "        float price\n",
    "        string seat_no\n",
    "        string status\n",
    "    }\n",
    "    dim_customer {\n",
    "        integer customer_id PK\n",
    "        string customer_name\n",
    "        integer customer_group_id FK\n",
    "        string email\n",
    "    }\n",
    "    dim_customer_group {\n",
    "        integer customer_group_id PK\n",
    "        string customer_group_type\n",
    "        string customer_group_name\n",
    "        string registry_number\n",
    "    }\n",
    "    dim_aeroplane {\n",
    "        integer airplane_id PK\n",
    "        string airplane_model FK\n",
    "        string manufacturer FK\n",
    "    }\n",
    "    dim_aeroplane_model {\n",
    "        string manufacturer PK\n",
    "        string airplane_model PK\n",
    "        integer max_seats\n",
    "        integer max_weight\n",
    "        integer max_distance\n",
    "        string engine_type\n",
    "    }\n",
    "    dim_trip {\n",
    "        integer trip_id PK\n",
    "        string origin_city\n",
    "        string destination_city\n",
    "        integer airplane_id FK\n",
    "        timestamp start_timestamp\n",
    "        timestamp end_timestamp\n",
    "    }\n",
    "\n",
    "    dim_customer_group ||--o{ dim_customer : customer_group_id\n",
    "    dim_aeroplane_model ||--o{ dim_aeroplane : \"manufacturer, airplane_model\"\n",
    "    dim_aeroplane ||--o{ dim_trip : airplane_id\n",
    "    dim_customer ||--o{ fct_order : customer_id\n",
    "    dim_trip ||--o{ fct_order : trip_id\n",
    "\n",
    "```"
   ]
  },
  {
   "cell_type": "markdown",
   "id": "7f3f041d-6418-44a2-a263-9ba9c762d8bf",
   "metadata": {},
   "source": [
    "There are a few considerations here. \n",
    "\n",
    "**Note 1:** It is a *logical model*, its primary purpose it to reflect the entities, attributes, and relationships. Depending on the target DWH technology, the *physical model* can be represented by a different set of tables, database-specific data types, and may not contain Foreign Keys at all. Also, analytical models tend to be less normalized, especially when dealing with large datasets in distributed environments. In this project, the resulting physical model (star schema) will include only `fct_order`, `dim_trip`, `dim_aeroplane`, and `dim_customer`.\n",
    "\n",
    "**Note 2:** Graphs are getting more and more popular, but are out of scope for this project. \n",
    "\n",
    "**Note 3:** There are other approaches in the industry (e.g. OBT, ensemble modeling). I will be happy to discuss these as well :)"
   ]
  },
  {
   "cell_type": "markdown",
   "id": "8b38fa40-4960-493d-9d3f-38691b4ec3a6",
   "metadata": {},
   "source": [
    "## Ingestion"
   ]
  },
  {
   "cell_type": "markdown",
   "id": "3bcf1d7e-9a8a-4d49-b598-eb194048e801",
   "metadata": {},
   "source": [
    "### Aeroplane model"
   ]
  },
  {
   "cell_type": "code",
   "execution_count": 15,
   "id": "af5ec55e-bb15-43a2-b112-48710e8f5135",
   "metadata": {},
   "outputs": [
    {
     "data": {
      "text/html": [
       "<div><style>\n",
       ".dataframe > thead > tr,\n",
       ".dataframe > tbody > tr {\n",
       "  text-align: right;\n",
       "  white-space: pre-wrap;\n",
       "}\n",
       "</style>\n",
       "<small>shape: (3, 6)</small><table border=\"1\" class=\"dataframe\"><thead><tr><th>manufacturer</th><th>model</th><th>max_seats</th><th>max_weight</th><th>max_distance</th><th>engine_type</th></tr><tr><td>str</td><td>str</td><td>i64</td><td>i64</td><td>i64</td><td>str</td></tr></thead><tbody><tr><td>&quot;Dassault&quot;</td><td>&quot;Falcon 7X&quot;</td><td>19</td><td>31750</td><td>5950</td><td>&quot;PW307A&quot;</td></tr><tr><td>&quot;Boeing&quot;</td><td>&quot;777-300ER&quot;</td><td>396</td><td>351535</td><td>7930</td><td>&quot;GE90-115B&quot;</td></tr><tr><td>&quot;Bombardier&quot;</td><td>&quot;Q400&quot;</td><td>90</td><td>29257</td><td>1567</td><td>&quot;PW150A&quot;</td></tr></tbody></table></div>"
      ],
      "text/plain": [
       "shape: (3, 6)\n",
       "┌──────────────┬───────────┬───────────┬────────────┬──────────────┬─────────────┐\n",
       "│ manufacturer ┆ model     ┆ max_seats ┆ max_weight ┆ max_distance ┆ engine_type │\n",
       "│ ---          ┆ ---       ┆ ---       ┆ ---        ┆ ---          ┆ ---         │\n",
       "│ str          ┆ str       ┆ i64       ┆ i64        ┆ i64          ┆ str         │\n",
       "╞══════════════╪═══════════╪═══════════╪════════════╪══════════════╪═════════════╡\n",
       "│ Dassault     ┆ Falcon 7X ┆ 19        ┆ 31750      ┆ 5950         ┆ PW307A      │\n",
       "│ Boeing       ┆ 777-300ER ┆ 396       ┆ 351535     ┆ 7930         ┆ GE90-115B   │\n",
       "│ Bombardier   ┆ Q400      ┆ 90        ┆ 29257      ┆ 1567         ┆ PW150A      │\n",
       "└──────────────┴───────────┴───────────┴────────────┴──────────────┴─────────────┘"
      ]
     },
     "execution_count": 15,
     "metadata": {},
     "output_type": "execute_result"
    }
   ],
   "source": [
    "# Read into a Polars df\n",
    "\n",
    "with open(f'{SAMPLES_DIR}/aeroplane_model.json', 'r') as f:\n",
    "    json_data = json.load(f)\n",
    "\n",
    "aeroplane_models_lst = []\n",
    "\n",
    "for manufacturer, models in json_data.items():\n",
    "    for model, attrs in models.items():\n",
    "        model_record = {\n",
    "            'manufacturer': manufacturer,\n",
    "            'model': model,\n",
    "            **attrs\n",
    "        }\n",
    "        aeroplane_models_lst.append(model_record)\n",
    "\n",
    "df_aeroplane_model = pl.DataFrame(aeroplane_models_lst)\n",
    "df_aeroplane_model.sample(n=3)"
   ]
  },
  {
   "cell_type": "code",
   "execution_count": 16,
   "id": "97bf66cd-64bb-42cd-af54-31afdd6269e8",
   "metadata": {},
   "outputs": [
    {
     "name": "stdout",
     "output_type": "stream",
     "text": [
      "  manufacturer      model  max_seats  max_weight  max_distance engine_type\n",
      "0       Boeing    737-800        189       79015          2935    CFM56-7B\n",
      "1       Boeing  777-300ER        396      351535          7930   GE90-115B\n",
      "2       Boeing      787-9        296      254000          7635     GEnx-1B\n"
     ]
    }
   ],
   "source": [
    "# Ingest into DuckDB\n",
    "# I will load data into schema `staging` (could be `bronze` in Medallion Architecture by Databricks)\n",
    "\n",
    "arrow_aeroplane_model = df_aeroplane_model.to_arrow()\n",
    "\n",
    "with duckdb.connect(DEV_DB) as db:\n",
    "    db.execute('CREATE SCHEMA IF NOT EXISTS staging')\n",
    "    db.register('arrow_aeroplane_model', arrow_aeroplane_model)\n",
    "    db.execute('CREATE TABLE IF NOT EXISTS staging.raw_aeroplane_model AS SELECT * FROM arrow_aeroplane_model')\n",
    "\n",
    "    stg_raw_aeroplane_model_sample = db.execute('SELECT * FROM staging.raw_aeroplane_model LIMIT 3').fetchdf()\n",
    "    print(stg_raw_aeroplane_model_sample)"
   ]
  },
  {
   "cell_type": "markdown",
   "id": "1305fef8-a13b-4d77-99b9-a8b48b1a40da",
   "metadata": {},
   "source": [
    "### Customer, Customer group, Aeroplane, Order, Trip"
   ]
  },
  {
   "cell_type": "code",
   "execution_count": 17,
   "id": "a313e3e3-66d0-4057-bf87-c33639a24ead",
   "metadata": {},
   "outputs": [
    {
     "name": "stdout",
     "output_type": "stream",
     "text": [
      "customer\n",
      "customer_group\n",
      "aeroplane\n",
      "order\n",
      "trip\n"
     ]
    }
   ],
   "source": [
    "print(*CSV_FILENAMES, sep='\\n')"
   ]
  },
  {
   "cell_type": "code",
   "execution_count": 18,
   "id": "20a4b2ec-95c8-4dce-8cfb-4971f26f9de8",
   "metadata": {},
   "outputs": [],
   "source": [
    "# Since we have several files of the same type, makes sense to wrap the ingestion code into a function :)\n",
    "\n",
    "def load_csv(filename, preview_sample_size):\n",
    "    df = pl.read_csv(f'{SAMPLES_DIR}/{filename}.csv')\n",
    "    \n",
    "    print(f\"***\\nLoading {filename} data... \\nSample:\\n{df.sample(n=preview_sample_size)}\")\n",
    "    \n",
    "    arrow_table = df.to_arrow()\n",
    "\n",
    "    with duckdb.connect(DEV_DB) as db:\n",
    "        db.register('arrow_table', arrow_table)\n",
    "        db.execute(f'CREATE TABLE IF NOT EXISTS staging.raw_{filename} AS SELECT * FROM arrow_table')\n",
    "\n",
    "        stg_raw_table_sample = db.execute(f'SELECT * FROM staging.raw_{filename} LIMIT {preview_sample_size}').fetchdf()\n",
    "\n",
    "        print(f\"Done loading. \\nSample:\\n{stg_raw_table_sample}\")\n",
    "    "
   ]
  },
  {
   "cell_type": "code",
   "execution_count": 19,
   "id": "2189dcd1-4300-4157-a30b-10f8944f5fa1",
   "metadata": {},
   "outputs": [
    {
     "name": "stdout",
     "output_type": "stream",
     "text": [
      "***\n",
      "Loading customer data... \n",
      "Sample:\n",
      "shape: (3, 5)\n",
      "┌─────────────┬───────────────┬───────────────────┬────────────────────────────┬───────────────────┐\n",
      "│ Customer ID ┆ Name          ┆ Customer Group ID ┆ Email                      ┆ Phone Number      │\n",
      "│ ---         ┆ ---           ┆ ---               ┆ ---                        ┆ ---               │\n",
      "│ i64         ┆ str           ┆ i64               ┆ str                        ┆ str               │\n",
      "╞═════════════╪═══════════════╪═══════════════════╪════════════════════════════╪═══════════════════╡\n",
      "│ 20          ┆ Rachel Walker ┆ 10                ┆ rachel.walker@company.net  ┆ +1 (555) 012-4567 │\n",
      "│ 4           ┆ Bob Brown     ┆ 4                 ┆ bob.brown@outlook.com      ┆ +61-2-9876-5432   │\n",
      "│ 14          ┆ Larry Harris  ┆ 4                 ┆ larry.harris@domain.net    ┆ +27 11 123 4567   │\n",
      "└─────────────┴───────────────┴───────────────────┴────────────────────────────┴───────────────────┘\n",
      "Done loading. \n",
      "Sample:\n",
      "   Customer ID           Name  Customer Group ID  \\\n",
      "0            1       John Doe                  1   \n",
      "1            2     Jane Smith               <NA>   \n",
      "2            3  Alice Johnson                  3   \n",
      "\n",
      "                          Email      Phone Number  \n",
      "0  john.doe@gmail.com             +1-555-123-4567  \n",
      "1  jane.smith@yahoo.com          +44 20 7946 0958  \n",
      "2  alice.j@example.com            +49-30-12345678  \n",
      "***\n",
      "Loading customer_group data... \n",
      "Sample:\n",
      "shape: (3, 4)\n",
      "┌─────┬───────────────┬────────────────┬─────────────────┐\n",
      "│ ID  ┆ Type          ┆ Name           ┆ Registry number │\n",
      "│ --- ┆ ---           ┆ ---            ┆ ---             │\n",
      "│ i64 ┆ str           ┆ str            ┆ str             │\n",
      "╞═════╪═══════════════╪════════════════╪═════════════════╡\n",
      "│ 2   ┆ Company       ┆ BigBang        ┆ 131101002       │\n",
      "│ 1   ┆ Company       ┆ Bolt           ┆ 5421524153      │\n",
      "│ 4   ┆ Private Group ┆ Mari's friends ┆ null            │\n",
      "└─────┴───────────────┴────────────────┴─────────────────┘\n",
      "Done loading. \n",
      "Sample:\n",
      "   ID     Type     Name Registry number\n",
      "0   1  Company     Bolt      5421524153\n",
      "1   2  Company  BigBang       131101002\n",
      "2   3  Company    Lofty         1533153\n",
      "***\n",
      "Loading aeroplane data... \n",
      "Sample:\n",
      "shape: (3, 3)\n",
      "┌─────────────┬────────────────┬──────────────┐\n",
      "│ Airplane ID ┆ Airplane Model ┆ Manufacturer │\n",
      "│ ---         ┆ ---            ┆ ---          │\n",
      "│ i64         ┆ str            ┆ str          │\n",
      "╞═════════════╪════════════════╪══════════════╡\n",
      "│ 2           ┆ A320neo        ┆ Airbus       │\n",
      "│ 10          ┆ 787-9          ┆ Boeing       │\n",
      "│ 4           ┆ CRJ900         ┆ Bombardier   │\n",
      "└─────────────┴────────────────┴──────────────┘\n",
      "Done loading. \n",
      "Sample:\n",
      "   Airplane ID Airplane Model Manufacturer\n",
      "0            1        737-800       Boeing\n",
      "1            2        A320neo       Airbus\n",
      "2            3        E190-E2      Embraer\n",
      "***\n",
      "Loading order data... \n",
      "Sample:\n",
      "shape: (3, 6)\n",
      "┌──────────┬─────────────┬─────────┬─────────────┬─────────┬───────────┐\n",
      "│ Order ID ┆ Customer ID ┆ Trip ID ┆ Price (EUR) ┆ Seat No ┆ Status    │\n",
      "│ ---      ┆ ---         ┆ ---     ┆ ---         ┆ ---     ┆ ---       │\n",
      "│ i64      ┆ i64         ┆ i64     ┆ i64         ┆ str     ┆ str       │\n",
      "╞══════════╪═════════════╪═════════╪═════════════╪═════════╪═══════════╡\n",
      "│ 14       ┆ 7           ┆ 9       ┆ 1700        ┆ 13B     ┆ Finished  │\n",
      "│ 17       ┆ 17          ┆ 4       ┆ 2100        ┆ 11E     ┆ Finished  │\n",
      "│ 15       ┆ 13          ┆ 3       ┆ 800         ┆ 7C      ┆ Cancelled │\n",
      "└──────────┴─────────────┴─────────┴─────────────┴─────────┴───────────┘\n",
      "Done loading. \n",
      "Sample:\n",
      "   Order ID  Customer ID  Trip ID  Price (EUR) Seat No    Status\n",
      "0         1            3       10         1200     12A  Finished\n",
      "1         2            5        7         1800      8B  Finished\n",
      "2         3            8        2         1500     15C  Finished\n",
      "***\n",
      "Loading trip data... \n",
      "Sample:\n",
      "shape: (3, 6)\n",
      "┌─────────┬─────────────┬──────────────────┬─────────────┬─────────────────┬───────────────────────┐\n",
      "│ Trip ID ┆ Origin City ┆ Destination City ┆ Airplane ID ┆ Start Timestamp ┆ End Timestamp         │\n",
      "│ ---     ┆ ---         ┆ ---              ┆ ---         ┆ ---             ┆ ---                   │\n",
      "│ i64     ┆ str         ┆ str              ┆ i64         ┆ str             ┆ str                   │\n",
      "╞═════════╪═════════════╪══════════════════╪═════════════╪═════════════════╪═══════════════════════╡\n",
      "│ 10      ┆ Mumbai      ┆ Dubai            ┆ 10          ┆ 2024-08-15      ┆ 2024-08-15 06:30:00   │\n",
      "│         ┆             ┆                  ┆             ┆ 04:00:00        ┆                       │\n",
      "│ 6       ┆ Moscow      ┆ Hong Kong        ┆ 6           ┆ 2024-08-10      ┆ 2024-08-10 21:00:00   │\n",
      "│         ┆             ┆                  ┆             ┆ 11:00:00        ┆                       │\n",
      "│ 7       ┆ Sao Paulo   ┆ Miami            ┆ 7           ┆ 2024-08-12      ┆ 2024-08-12 19:30:00   │\n",
      "│         ┆             ┆                  ┆             ┆ 13:00:00        ┆                       │\n",
      "└─────────┴─────────────┴──────────────────┴─────────────┴─────────────────┴───────────────────────┘\n",
      "Done loading. \n",
      "Sample:\n",
      "   Trip ID Origin City Destination City  Airplane ID      Start Timestamp  \\\n",
      "0        1    New York           London            1  2024-08-01 14:30:00   \n",
      "1        2       Tokyo            Paris            2  2024-08-03 09:00:00   \n",
      "2        3      Sydney      Los Angeles            3  2024-08-05 22:00:00   \n",
      "\n",
      "         End Timestamp  \n",
      "0  2024-08-02 02:00:00  \n",
      "1  2024-08-03 17:00:00  \n",
      "2  2024-08-05 15:00:00  \n"
     ]
    }
   ],
   "source": [
    "for i, csv_file in enumerate(CSV_FILENAMES):\n",
    "    load_csv(filename=CSV_FILENAMES[i], preview_sample_size=3)"
   ]
  },
  {
   "cell_type": "markdown",
   "id": "0f087bd9-9bbe-4ea5-8acf-bc00d5898c2a",
   "metadata": {},
   "source": [
    "\n",
    "Raw data is loaded into the staging area. Now it's time to implement the **physical model** and perform the data transformations to enable business analytics. \n",
    "***"
   ]
  },
  {
   "cell_type": "markdown",
   "id": "68acd1cc-53e7-470a-a93e-d231ff51b154",
   "metadata": {},
   "source": [
    "## Transformation"
   ]
  },
  {
   "cell_type": "markdown",
   "id": "13d48232-c39a-4f26-a292-344058b5b2dd",
   "metadata": {},
   "source": [
    "For transformation I am using [dbt](https://www.getdbt.com/), the most popular framework for physical data modeling and data transformations."
   ]
  },
  {
   "cell_type": "code",
   "execution_count": 20,
   "id": "d9be190b-643b-4ff7-a2cc-e3338a130fae",
   "metadata": {},
   "outputs": [
    {
     "name": "stdout",
     "output_type": "stream",
     "text": [
      "\u001b[0m01:31:35  Running with dbt=1.9.2\n",
      "\u001b[0m01:31:36  Registered adapter: duckdb=1.9.2\n",
      "\u001b[0m01:31:36  Found 16 models, 12 data tests, 6 sources, 426 macros\n",
      "air_boltic_analytics.marts.dim_aeroplane\n",
      "air_boltic_analytics.marts.dim_customer\n",
      "air_boltic_analytics.marts.dim_trip\n",
      "air_boltic_analytics.marts.fct_order\n",
      "air_boltic_analytics.intermediate.int_aeroplane_models\n",
      "air_boltic_analytics.intermediate.int_aeroplanes\n",
      "air_boltic_analytics.intermediate.int_customer_groups\n",
      "air_boltic_analytics.intermediate.int_customers\n",
      "air_boltic_analytics.intermediate.int_orders\n",
      "air_boltic_analytics.intermediate.int_trips\n",
      "air_boltic_analytics.sources.stg_aeroplane_models\n",
      "air_boltic_analytics.sources.stg_aeroplanes\n",
      "air_boltic_analytics.sources.stg_customer_groups\n",
      "air_boltic_analytics.sources.stg_customers\n",
      "air_boltic_analytics.sources.stg_orders\n",
      "air_boltic_analytics.sources.stg_trips\n"
     ]
    }
   ],
   "source": [
    "!cd air_boltic_analytics && dbt ls --resource-type=model"
   ]
  },
  {
   "cell_type": "markdown",
   "id": "b28a80e7-bcf1-4ef3-ba3b-a8dabe1bece4",
   "metadata": {},
   "source": [
    "Transformation layers:\n",
    "\n",
    "- \"Bronze\" (`sources`): `stg_*` models, reflect raw data tables as is\n",
    "- \"Silver\" (`intermediate`): `int_*` models, basic transformations like naming conventions and type casts\n",
    "- \"Gold\" (`marts`): `dim_*` and `fct_*` models, star schema"
   ]
  },
  {
   "cell_type": "code",
   "execution_count": 21,
   "id": "20efcb9b-3f8b-493b-a51c-2bb69513b06b",
   "metadata": {},
   "outputs": [
    {
     "name": "stdout",
     "output_type": "stream",
     "text": [
      "\u001b[0m01:31:44  Running with dbt=1.9.2\n",
      "\u001b[0m01:31:44  Registered adapter: duckdb=1.9.2\n",
      "\u001b[0m01:31:44  Found 16 models, 12 data tests, 6 sources, 426 macros\n",
      "\u001b[0m01:31:44  \n",
      "\u001b[0m01:31:44  Concurrency: 1 threads (target='dev')\n",
      "\u001b[0m01:31:44  \n",
      "\u001b[0m01:31:44  1 of 16 START sql view model main.stg_aeroplane_models ......................... [RUN]\n",
      "\u001b[0m01:31:44  1 of 16 OK created sql view model main.stg_aeroplane_models .................... [\u001b[32mOK\u001b[0m in 0.04s]\n",
      "\u001b[0m01:31:44  2 of 16 START sql view model main.stg_aeroplanes ............................... [RUN]\n",
      "\u001b[0m01:31:44  2 of 16 OK created sql view model main.stg_aeroplanes .......................... [\u001b[32mOK\u001b[0m in 0.01s]\n",
      "\u001b[0m01:31:44  3 of 16 START sql view model main.stg_customer_groups .......................... [RUN]\n",
      "\u001b[0m01:31:44  3 of 16 OK created sql view model main.stg_customer_groups ..................... [\u001b[32mOK\u001b[0m in 0.01s]\n",
      "\u001b[0m01:31:44  4 of 16 START sql view model main.stg_customers ................................ [RUN]\n",
      "\u001b[0m01:31:44  4 of 16 OK created sql view model main.stg_customers ........................... [\u001b[32mOK\u001b[0m in 0.01s]\n",
      "\u001b[0m01:31:44  5 of 16 START sql view model main.stg_orders ................................... [RUN]\n",
      "\u001b[0m01:31:44  5 of 16 OK created sql view model main.stg_orders .............................. [\u001b[32mOK\u001b[0m in 0.01s]\n",
      "\u001b[0m01:31:44  6 of 16 START sql view model main.stg_trips .................................... [RUN]\n",
      "\u001b[0m01:31:44  6 of 16 OK created sql view model main.stg_trips ............................... [\u001b[32mOK\u001b[0m in 0.01s]\n",
      "\u001b[0m01:31:44  7 of 16 START sql table model main.int_aeroplane_models ........................ [RUN]\n",
      "\u001b[0m01:31:44  7 of 16 OK created sql table model main.int_aeroplane_models ................... [\u001b[32mOK\u001b[0m in 0.02s]\n",
      "\u001b[0m01:31:44  8 of 16 START sql table model main.int_aeroplanes .............................. [RUN]\n",
      "\u001b[0m01:31:44  8 of 16 OK created sql table model main.int_aeroplanes ......................... [\u001b[32mOK\u001b[0m in 0.04s]\n",
      "\u001b[0m01:31:44  9 of 16 START sql table model main.int_customer_groups ......................... [RUN]\n",
      "\u001b[0m01:31:44  9 of 16 OK created sql table model main.int_customer_groups .................... [\u001b[32mOK\u001b[0m in 0.01s]\n",
      "\u001b[0m01:31:44  10 of 16 START sql table model main.int_customers .............................. [RUN]\n",
      "\u001b[0m01:31:44  10 of 16 OK created sql table model main.int_customers ......................... [\u001b[32mOK\u001b[0m in 0.01s]\n",
      "\u001b[0m01:31:44  11 of 16 START sql table model main.int_orders ................................. [RUN]\n",
      "\u001b[0m01:31:44  11 of 16 OK created sql table model main.int_orders ............................ [\u001b[32mOK\u001b[0m in 0.01s]\n",
      "\u001b[0m01:31:44  12 of 16 START sql table model main.int_trips .................................. [RUN]\n",
      "\u001b[0m01:31:44  12 of 16 OK created sql table model main.int_trips ............................. [\u001b[32mOK\u001b[0m in 0.01s]\n",
      "\u001b[0m01:31:44  13 of 16 START sql table model main.dim_aeroplane .............................. [RUN]\n",
      "\u001b[0m01:31:44  13 of 16 OK created sql table model main.dim_aeroplane ......................... [\u001b[32mOK\u001b[0m in 0.01s]\n",
      "\u001b[0m01:31:44  14 of 16 START sql table model main.dim_customer ............................... [RUN]\n",
      "\u001b[0m01:31:44  14 of 16 OK created sql table model main.dim_customer .......................... [\u001b[32mOK\u001b[0m in 0.01s]\n",
      "\u001b[0m01:31:44  15 of 16 START sql table model main.fct_order .................................. [RUN]\n",
      "\u001b[0m01:31:44  15 of 16 OK created sql table model main.fct_order ............................. [\u001b[32mOK\u001b[0m in 0.01s]\n",
      "\u001b[0m01:31:44  16 of 16 START sql table model main.dim_trip ................................... [RUN]\n",
      "\u001b[0m01:31:44  16 of 16 OK created sql table model main.dim_trip .............................. [\u001b[32mOK\u001b[0m in 0.03s]\n",
      "\u001b[0m01:31:44  \n",
      "\u001b[0m01:31:44  Finished running 10 table models, 6 view models in 0 hours 0 minutes and 0.37 seconds (0.37s).\n",
      "\u001b[0m01:31:44  \n",
      "\u001b[0m01:31:44  \u001b[32mCompleted successfully\u001b[0m\n",
      "\u001b[0m01:31:44  \n",
      "\u001b[0m01:31:44  Done. PASS=16 WARN=0 ERROR=0 SKIP=0 TOTAL=16\n"
     ]
    }
   ],
   "source": [
    "!cd air_boltic_analytics && dbt run"
   ]
  },
  {
   "cell_type": "markdown",
   "id": "b3c73aac-0b00-4da8-b1a3-8d8d442e4488",
   "metadata": {},
   "source": [
    "Possible next steps:\n",
    "- During EDA, we identified missing values and inconsistent formats in the data - makes sense to find the reason and take actions. For example, there could be issues in the source systems or in the ingestion pipelines. Once we are clear about it, we can add data tests.\n",
    "- Macros are a powerful mechanism in dbt, we can automate many things with them.\n",
    "- Model materialization to be updated to `incremental` for models having timestamps and unique key fields.\n",
    "- Use snapshots to deal with slowly changing dimensions (SCD2).\n",
    "- ...\n",
    "\n",
    "***"
   ]
  },
  {
   "cell_type": "markdown",
   "id": "73d583c6-710c-41fb-9a2b-7e2c6dcbd7e6",
   "metadata": {},
   "source": [
    "## CI/CD"
   ]
  },
  {
   "cell_type": "markdown",
   "id": "8bec3254-f52b-4595-8957-15c8eb0b172d",
   "metadata": {},
   "source": [
    "### \"Ideal\" solution\n",
    "The goal is to have higher quality (= more issues caught) at lower costs (running most checks before deployment).\n",
    "\n",
    "An ideal / highly mature solution requires the use of all modern mechanisms to ensure quality, specifically:\n",
    "- Data contracts to deal with boundary systems\n",
    "- Unit tests to run on samples before deployment\n",
    "- Data tests to run after deployment (it's a good idea to minimize these to save on costs)\n",
    "\n",
    "The process could look like this:"
   ]
  },
  {
   "cell_type": "markdown",
   "id": "105b80c0-3878-45cb-914a-127bcdf53ae1",
   "metadata": {},
   "source": [
    "```mermaid\n",
    "flowchart TB\n",
    "\n",
    "    A1(Test code) --> A[Code commit]\n",
    "    B1(Test data) --> B[New data increment]\n",
    "\n",
    "    A --> C[Run automated tests]\n",
    "    B --> C\n",
    "\n",
    "    C --> D[Code tests]\n",
    "    C --> E[Data contracts]\n",
    "    \n",
    "    D --> F[Unit Tests on transformation]\n",
    "    F --> H{Fail?}\n",
    "    H -- Yes --> I[Fix issues]\n",
    "    I --> C\n",
    "    H -- No --> Q[Production deployment]\n",
    "\n",
    "    %% Data tests path\n",
    "    E --> K[Test data]\n",
    "    E --> L[Test schema]\n",
    "    K --> M{Fail?}\n",
    "    L --> N{Fail?}\n",
    "    M -- Yes --> O[Notification / alert]\n",
    "    N -- Yes --> O\n",
    "    M -- No --> Q\n",
    "    N -- No --> Q\n",
    "```"
   ]
  },
  {
   "cell_type": "markdown",
   "id": "b19074bf-eaf7-4423-887f-cfac398aeeb3",
   "metadata": {},
   "source": [
    "### \"Simple\" solution\n",
    "The solution could be simplified as follows:\n",
    "\n",
    "- Use simple PR review process\n",
    "- Rely on dbt framework features (data contracts, unit tests, data tests)\n",
    "- Use lightweight CI/CD options like GitHub Actions\n",
    "- Adopt style guides and code standards"
   ]
  },
  {
   "cell_type": "markdown",
   "id": "a794d8c6-4da7-4722-acc9-ae1d1d66e5ab",
   "metadata": {},
   "source": [
    "## Evolution"
   ]
  },
  {
   "cell_type": "markdown",
   "id": "f0822a06-acdf-4342-b397-1fc4b358185e",
   "metadata": {},
   "source": [
    "### Architecture\n",
    "![analytics_architecture](../docs/analytics_architecture.png)"
   ]
  },
  {
   "cell_type": "markdown",
   "id": "395e10a6-aa82-4fc9-a430-b6befa7c6278",
   "metadata": {},
   "source": [
    "### Further considerations"
   ]
  },
  {
   "cell_type": "markdown",
   "id": "c32a240e-4701-46df-9f11-3470c50c4ae1",
   "metadata": {},
   "source": [
    "From the solution architecture and engineering viewpoint, the following points can be taken into consideration:\n",
    "- Open Table Formats, e.g. Apache Iceberg\n",
    "- Modern open-source ELT tools, e.g. dlt\n",
    "- Advanced data modeling approaches, e.g. ensemble modeling\n",
    "\n",
    "***"
   ]
  },
  {
   "cell_type": "markdown",
   "id": "ae29e473-1acd-48af-8ae9-212b373ee101",
   "metadata": {},
   "source": [
    "If you have any questions or suggestions, please contact the author."
   ]
  }
 ],
 "metadata": {
  "kernelspec": {
   "display_name": "Python 3 (ipykernel)",
   "language": "python",
   "name": "python3"
  },
  "language_info": {
   "codemirror_mode": {
    "name": "ipython",
    "version": 3
   },
   "file_extension": ".py",
   "mimetype": "text/x-python",
   "name": "python",
   "nbconvert_exporter": "python",
   "pygments_lexer": "ipython3",
   "version": "3.13.0"
  }
 },
 "nbformat": 4,
 "nbformat_minor": 5
}
